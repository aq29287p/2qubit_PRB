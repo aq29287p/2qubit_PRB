{
 "metadata": {
  "language_info": {
   "codemirror_mode": {
    "name": "ipython",
    "version": 3
   },
   "file_extension": ".py",
   "mimetype": "text/x-python",
   "name": "python",
   "nbconvert_exporter": "python",
   "pygments_lexer": "ipython3",
   "version": "3.7.7"
  },
  "orig_nbformat": 2,
  "kernelspec": {
   "name": "python377jvsc74a57bd0ffb25138421c4c6a9b68505b496a2c6bd4941a5d60eeaba86803049f9658758d",
   "display_name": "Python 3.7.7 64-bit ('py37': conda)"
  }
 },
 "nbformat": 4,
 "nbformat_minor": 2,
 "cells": [
  {
   "cell_type": "code",
   "execution_count": null,
   "metadata": {},
   "outputs": [],
   "source": [
    "from pyquil.simulation.matrices import I, X, Y, Z\n",
    "import numpy as np\n",
    "def sequence_list_length_by_1():\n",
    "\n",
    "def dephaseing_kraus(p):\n",
    "    A=[np.kron(i_deph,j_deph) for i_deph in [I,Z] for j_deph in [I,Z]]\n",
    "    for i_deph in [0,3]:\n",
    "        A[i_deph] = A[i_deph]*(1-p)\n",
    "    for i_deph in [1,2]:\n",
    "        A[i_deph] = A[i_deph]*np.sqrt(p*(1-p))\n",
    "    return A\n",
    "\n",
    "def depolarizing_kraus(p):\n",
    "    A=[np.kron(i_depo,j_depo) for i_depo in [I,X,Y,Z] for j_depo in [I,X,Y,Z]]\n",
    "    A[0] = A[0]*np.sqrt(1-p)\n",
    "    for i_depo in range(len(A[1:])):\n",
    "        A[i_depo]=A[i_depo]*np.sqrt(p/15)\n",
    "    return A\n",
    "if __name__ == '__main__':\n",
    "####### input\n",
    "    rb_types=int(input('-1 rb, 0 decomp_rb, 1 prb\\n'))\n",
    "    max_seq= int(input('max seq \\n'))\n",
    "####### rb gate number i    \n",
    "    for i in tqdm(sequence_length,ascii=True,desc=\"sequence_length\",dynamic_ncols=True):\n",
    "####### generate rb sequence        \n",
    "        pool = Pool()\n",
    "        seq = pool.map(sequence_list_length_by_1,[i]*types)\n",
    "        pool.close()\n",
    "        pool.join()\n",
    "####### rb sequence into probablility\n",
    "        types_probability=[]\n",
    "        m_average=[]\n",
    "        pool = mp.Pool()\n",
    "        repeat_probability = pool.starmap(sequence_to_probability,[(i,None,d,e) for d in range(1) for e in seq ])\n",
    "        pool.close()\n",
    "        pool.join()"
   ]
  },
  {
   "cell_type": "code",
   "execution_count": 34,
   "metadata": {},
   "outputs": [
    {
     "output_type": "stream",
     "name": "stdout",
     "text": [
      "0.2  .   .   .   .   .   .   .   .   .   .   .   .   .   .   .  \n .   .   .   .   .   .   .   .   .   .   .   .   .   .   .   .  \n .   .   .   .   .   .   .   .   .   .   .   .   .   .   .   .  \n .   .   .  0.2  .   .   .   .   .   .   .   .   .   .   .   .  \n .   .   .   .   .   .   .   .   .   .   .   .   .   .   .   .  \n .   .   .   .   .  -0.2  .   .   .   .   .   .   .   .   .   .  \n .   .   .   .   .   .  -0.2  .   .   .   .   .   .   .   .   .  \n .   .   .   .   .   .   .   .   .   .   .   .   .   .   .   .  \n .   .   .   .   .   .   .   .   .   .   .   .   .   .   .   .  \n .   .   .   .   .   .   .   .   .  -0.2  .   .   .   .   .   .  \n .   .   .   .   .   .   .   .   .   .  -0.2  .   .   .   .   .  \n .   .   .   .   .   .   .   .   .   .   .   .   .   .   .   .  \n .   .   .   .   .   .   .   .   .   .   .   .  0.2  .   .   .  \n .   .   .   .   .   .   .   .   .   .   .   .   .   .   .   .  \n .   .   .   .   .   .   .   .   .   .   .   .   .   .   .   .  \n .   .   .   .   .   .   .   .   .   .   .   .   .   .   .  0.2 \n"
     ]
    }
   ],
   "source": [
    "from pyquil.simulation.matrices import I, X, Y, Z\n",
    "import numpy as np\n",
    "from forest.benchmarking.operator_tools import kraus2pauli_liouville\n",
    "from print_large import _print_big_matrix\n",
    "def dephaseing_kraus(p):\n",
    "    A=[np.kron(i_deph,j_deph) for i_deph in [I,Z] for j_deph in [I,Z]]\n",
    "    for i_deph in [0,3]:\n",
    "        A[i_deph] = A[i_deph]*(1-p)\n",
    "    for i_deph in [1,2]:\n",
    "        A[i_deph] = A[i_deph]*np.sqrt(p*(1-p))\n",
    "    return A\n",
    "def depolarizing_kraus(p):\n",
    "    A=[np.kron(i_depo,j_depo) for i_depo in [I,X,Y,Z] for j_depo in [I,X,Y,Z]]\n",
    "    A[0] = A[0]*np.sqrt(1-p)\n",
    "    for i_depo in range(1,len(A)):\n",
    "        A[i_depo]=A[i_depo]*np.sqrt(p/15)\n",
    "    return A\n",
    "if __name__ == '__main__':\n",
    "\n",
    "    a=kraus2pauli_liouville(dephaseing_kraus(0.9))\n",
    "    _print_big_matrix(a)\n",
    "\n"
   ]
  },
  {
   "cell_type": "code",
   "execution_count": 57,
   "metadata": {},
   "outputs": [
    {
     "output_type": "stream",
     "name": "stdout",
     "text": [
      "1.0  .   .   .  \n .   .   .   .  \n .   .   .   .  \n .   .   .   .  \n"
     ]
    }
   ],
   "source": [
    "from pyquil.simulation.matrices import I, X, Y, Z\n",
    "import numpy as np\n",
    "from forest.benchmarking.operator_tools import kraus2pauli_liouville\n",
    "from print_large import _print_big_matrix\n",
    "#### 2-qubit pauli basis\n",
    "pauli_basis=[np.asarray(np.kron(i,j)) for i in [I, X, Y, Z] for j in [I, X, Y, Z]]\n",
    "#### 2-qubit |0> and |1>\n",
    "e_state=np.kron(np.asarray([[0,0],[0,1]]),np.asarray([[0,0],[0,1]]))\n",
    "g_state=np.kron(np.asarray([[1,0],[0,0]]),np.asarray([[1,0],[0,0]]))\n",
    "####Density matrix to PTM\n",
    "def densityop_01_2_pauli(density_op):\n",
    "    #assert density_op.ndim !=4,'wrong dim'\n",
    "    A=np.asarray([np.trace(density_op@i_den) for i_den in pauli_basis]).reshape(density_op.size,1)\n",
    "    return A\n",
    "def densityop_pauli_2_01(density_op):\n",
    "    #assert density_op.shape == (len(density_op),1),'wrong dim'\n",
    "    A_den=np.asarray([density_op[i_den]*pauli_basis[i_den] for i_den in range(16)])\n",
    "    B_den=np.zeros((4,4))\n",
    "    for i_den in A_den:\n",
    "        B_den=B_den+i_den\n",
    "    return B_den/4\n",
    "if __name__ == '__main__':\n",
    "    _print_big_matrix(densityop_pauli_2_01(densityop_01_2_pauli(g_state)))\n"
   ]
  },
  {
   "cell_type": "code",
   "execution_count": 44,
   "metadata": {},
   "outputs": [
    {
     "output_type": "stream",
     "name": "stdout",
     "text": [
      "[[ 1.+0.j]\n [ 0.+0.j]\n [ 0.+0.j]\n [-1.+0.j]\n [ 0.+0.j]\n [ 0.+0.j]\n [ 0.+0.j]\n [ 0.+0.j]\n [ 0.+0.j]\n [ 0.+0.j]\n [ 0.+0.j]\n [ 0.+0.j]\n [-1.+0.j]\n [ 0.+0.j]\n [ 0.+0.j]\n [ 1.+0.j]]\n"
     ]
    }
   ],
   "source": [
    "density_op=np.asarray([[0,0],[0,1]])\n",
    "density_op=np.kron(density_op,density_op)\n",
    "print(densityop_01_2_pauli(density_op))\n"
   ]
  },
  {
   "cell_type": "code",
   "execution_count": null,
   "metadata": {},
   "outputs": [],
   "source": []
  }
 ]
}
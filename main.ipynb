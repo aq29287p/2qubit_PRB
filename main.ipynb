{
 "metadata": {
  "language_info": {
   "codemirror_mode": {
    "name": "ipython",
    "version": 3
   },
   "file_extension": ".py",
   "mimetype": "text/x-python",
   "name": "python",
   "nbconvert_exporter": "python",
   "pygments_lexer": "ipython3",
   "version": 3
  },
  "orig_nbformat": 2
 },
 "nbformat": 4,
 "nbformat_minor": 2,
 "cells": [
  {
   "cell_type": "code",
   "execution_count": null,
   "metadata": {},
   "outputs": [],
   "source": [
    "\n",
    "def sequence_list_length_by_1():\n",
    "\n",
    "def dephaseing_kraus(p):\n",
    "    Ad0 = np.asarray([[1, 0], [0, np.sqrt(1 - p)]])\n",
    "    Ad1 = np.asarray([[0, np.sqrt(p)], [0, 0]])\n",
    "    return [Ad0, Ad1]\n",
    "\n",
    "def depolarizing_kraus(p):\n",
    "    M0 = np.sqrt(1 - p) * I\n",
    "    M1 = np.sqrt(p) * X\n",
    "    return [M0, M1]\n",
    "if __name__ == '__main__':\n",
    "####### input\n",
    "    rb_types=int(input('-1 rb, 0 decomp_rb, 1 prb\\n'))\n",
    "    max_seq= int(input('max seq \\n'))\n",
    "####### rb gate number i    \n",
    "    for i in tqdm(sequence_length,ascii=True,desc=\"sequence_length\",dynamic_ncols=True):\n",
    "####### generate rb sequence        \n",
    "        pool = Pool()\n",
    "        seq = pool.map(sequence_list_length_by_1,[i]*types)\n",
    "        pool.close()\n",
    "        pool.join()\n",
    "####### rb sequence into probablility\n",
    "        types_probability=[]\n",
    "        m_average=[]\n",
    "        pool = mp.Pool()\n",
    "        repeat_probability = pool.starmap(sequence_to_probability,[(i,None,d,e) for d in range(1) for e in seq ])\n",
    "        pool.close()\n",
    "        pool.join()"
   ]
  }
 ]
}
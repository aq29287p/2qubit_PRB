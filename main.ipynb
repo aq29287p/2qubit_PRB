{
 "metadata": {
  "language_info": {
   "codemirror_mode": {
    "name": "ipython",
    "version": 3
   },
   "file_extension": ".py",
   "mimetype": "text/x-python",
   "name": "python",
   "nbconvert_exporter": "python",
   "pygments_lexer": "ipython3",
   "version": "3.7.7"
  },
  "orig_nbformat": 2,
  "kernelspec": {
   "name": "python377jvsc74a57bd0ffb25138421c4c6a9b68505b496a2c6bd4941a5d60eeaba86803049f9658758d",
   "display_name": "Python 3.7.7 64-bit ('py37': conda)"
  }
 },
 "nbformat": 4,
 "nbformat_minor": 2,
 "cells": [
  {
   "cell_type": "code",
   "execution_count": null,
   "metadata": {},
   "outputs": [],
   "source": [
    "from pyquil.simulation.matrices import I, X, Y, Z\n",
    "import numpy as np\n",
    "def sequence_list_length_by_1():\n",
    "\n",
    "def dephaseing_kraus(p):\n",
    "    A=[np.kron(i_deph,j_deph) for i_deph in [I,Z] for j_deph in [I,Z]]\n",
    "    for i_deph in [0,3]:\n",
    "        A[i_deph] = A[i_deph]*(1-p)\n",
    "    for i_deph in [1,2]:\n",
    "        A[i_deph] = A[i_deph]*np.sqrt(p*(1-p))\n",
    "    return A\n",
    "\n",
    "def depolarizing_kraus(p):\n",
    "    A=[np.kron(i_depo,j_depo) for i_depo in [I,X,Y,Z] for j_depo in [I,X,Y,Z]]\n",
    "    A[0] = A[0]*np.sqrt(1-p)\n",
    "    for i_depo in range(len(A[1:])):\n",
    "        A[i_depo]=A[i_depo]*np.sqrt(p/15)\n",
    "    return A\n",
    "if __name__ == '__main__':\n",
    "####### input\n",
    "    rb_types=int(input('-1 rb, 0 decomp_rb, 1 prb\\n'))\n",
    "    max_seq= int(input('max seq \\n'))\n",
    "####### rb gate number i    \n",
    "    for i in tqdm(sequence_length,ascii=True,desc=\"sequence_length\",dynamic_ncols=True):\n",
    "####### generate rb sequence        \n",
    "        pool = Pool()\n",
    "        seq = pool.map(sequence_list_length_by_1,[i]*types)\n",
    "        pool.close()\n",
    "        pool.join()\n",
    "####### rb sequence into probablility\n",
    "        types_probability=[]\n",
    "        m_average=[]\n",
    "        pool = mp.Pool()\n",
    "        repeat_probability = pool.starmap(sequence_to_probability,[(i,None,d,e) for d in range(1) for e in seq ])\n",
    "        pool.close()\n",
    "        pool.join()"
   ]
  },
  {
   "cell_type": "code",
   "execution_count": 34,
   "metadata": {},
   "outputs": [
    {
     "output_type": "stream",
     "name": "stdout",
     "text": [
      "0.2  .   .   .   .   .   .   .   .   .   .   .   .   .   .   .  \n .   .   .   .   .   .   .   .   .   .   .   .   .   .   .   .  \n .   .   .   .   .   .   .   .   .   .   .   .   .   .   .   .  \n .   .   .  0.2  .   .   .   .   .   .   .   .   .   .   .   .  \n .   .   .   .   .   .   .   .   .   .   .   .   .   .   .   .  \n .   .   .   .   .  -0.2  .   .   .   .   .   .   .   .   .   .  \n .   .   .   .   .   .  -0.2  .   .   .   .   .   .   .   .   .  \n .   .   .   .   .   .   .   .   .   .   .   .   .   .   .   .  \n .   .   .   .   .   .   .   .   .   .   .   .   .   .   .   .  \n .   .   .   .   .   .   .   .   .  -0.2  .   .   .   .   .   .  \n .   .   .   .   .   .   .   .   .   .  -0.2  .   .   .   .   .  \n .   .   .   .   .   .   .   .   .   .   .   .   .   .   .   .  \n .   .   .   .   .   .   .   .   .   .   .   .  0.2  .   .   .  \n .   .   .   .   .   .   .   .   .   .   .   .   .   .   .   .  \n .   .   .   .   .   .   .   .   .   .   .   .   .   .   .   .  \n .   .   .   .   .   .   .   .   .   .   .   .   .   .   .  0.2 \n"
     ]
    }
   ],
   "source": [
    "from pyquil.simulation.matrices import I, X, Y, Z\n",
    "import numpy as np\n",
    "from forest.benchmarking.operator_tools import kraus2pauli_liouville\n",
    "from print_large import _print_big_matrix\n",
    "def dephaseing_kraus(p):\n",
    "    A=[np.kron(i_deph,j_deph) for i_deph in [I,Z] for j_deph in [I,Z]]\n",
    "    for i_deph in [0,3]:\n",
    "        A[i_deph] = A[i_deph]*(1-p)\n",
    "    for i_deph in [1,2]:\n",
    "        A[i_deph] = A[i_deph]*np.sqrt(p*(1-p))\n",
    "    return A\n",
    "def depolarizing_kraus(p):\n",
    "    A=[np.kron(i_depo,j_depo) for i_depo in [I,X,Y,Z] for j_depo in [I,X,Y,Z]]\n",
    "    A[0] = A[0]*np.sqrt(1-p)\n",
    "    for i_depo in range(1,len(A)):\n",
    "        A[i_depo]=A[i_depo]*np.sqrt(p/15)\n",
    "    return A\n",
    "if __name__ == '__main__':\n",
    "\n",
    "    a=kraus2pauli_liouville(dephaseing_kraus(0.9))\n",
    "    _print_big_matrix(a)\n",
    "\n"
   ]
  },
  {
   "cell_type": "code",
   "execution_count": 52,
   "metadata": {},
   "outputs": [
    {
     "output_type": "stream",
     "name": "stdout",
     "text": [
      "[[1.+0.j]\n [0.+0.j]\n [0.+0.j]\n [1.+0.j]]\n1.0 \n .  \n .  \n1.0 \n .  \n .  \n .  \n .  \n .  \n .  \n .  \n .  \n1.0 \n .  \n .  \n1.0 \n"
     ]
    }
   ],
   "source": [
    "from pyquil.simulation.matrices import I, X, Y, Z\n",
    "import numpy as np\n",
    "from forest.benchmarking.operator_tools import kraus2pauli_liouville\n",
    "from print_large import _print_big_matrix\n",
    "\n",
    "def densityop_01_2_pauli(density_op):\n",
    "    a_00=np.trace(density_op)\n",
    "    a_10=np.trace(X@density_op)\n",
    "    a_20=np.trace(Y@density_op)\n",
    "    a_30=np.trace(Z@density_op)\n",
    "\n",
    "    return np.array([a_00, a_10, a_20, a_30]).reshape(4,1)\n",
    "if __name__ == '__main__':\n",
    "    density_op=np.asarray([[1,0],[0,0]])\n",
    "    print(densityop_01basis_to_paulibasis(density_op))\n",
    "    _print_big_matrix(np.kron(densityop_01basis_to_paulibasis(density_op),densityop_01basis_to_paulibasis(density_op)))"
   ]
  },
  {
   "cell_type": "code",
   "execution_count": null,
   "metadata": {},
   "outputs": [],
   "source": []
  }
 ]
}
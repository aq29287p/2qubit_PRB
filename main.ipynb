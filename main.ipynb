{
 "metadata": {
  "language_info": {
   "codemirror_mode": {
    "name": "ipython",
    "version": 3
   },
   "file_extension": ".py",
   "mimetype": "text/x-python",
   "name": "python",
   "nbconvert_exporter": "python",
   "pygments_lexer": "ipython3",
   "version": "3.7.4"
  },
  "orig_nbformat": 2,
  "kernelspec": {
   "name": "python374jvsc74a57bd02c2747c66c9ad23919eba34665702ab63cad1d69a4d128a873053212d1debad8",
   "display_name": "Python 3.7.4 64-bit ('base': conda)",
   "language": "python"
  }
 },
 "nbformat": 4,
 "nbformat_minor": 2,
 "cells": [
  {
   "cell_type": "code",
   "execution_count": 58,
   "metadata": {},
   "outputs": [
    {
     "output_type": "stream",
     "name": "stdout",
     "text": [
      "1.0  .   .   .  \n .   .   .   .  \n .   .   .   .  \n .   .   .   .  \n"
     ]
    },
    {
     "output_type": "execute_result",
     "data": {
      "text/plain": [
       "'####### input\\n    rb_types=int(input(\\'-1 rb, 0 decomp_rb, 1 prb\\n\\'))\\n    max_seq= int(input(\\'max seq \\n\\'))\\n####### rb gate number i    \\n    for i in tqdm(sequence_length,ascii=True,desc=\"sequence_length\",dynamic_ncols=True):\\n####### generate rb sequence        \\n        pool = Pool()\\n        seq = pool.map(sequence_list_length_by_1,[i]*types)\\n        pool.close()\\n        pool.join()\\n####### rb sequence into probablility\\n        types_probability=[]\\n        m_average=[]\\n        pool = mp.Pool()\\n        repeat_probability = pool.starmap(sequence_to_probability,[(i,None,d,e) for d in range(1) for e in seq ])\\n        pool.close()\\n        pool.join()'"
      ]
     },
     "metadata": {},
     "execution_count": 58
    }
   ],
   "source": [
    "from pyquil.simulation.matrices import I, X, Y, Z\n",
    "import numpy as np\n",
    "from forest.benchmarking.operator_tools import kraus2pauli_liouville\n",
    "from print_large import _print_big_matrix\n",
    "#### 2-qubit pauli basis\n",
    "pauli_basis=[np.asarray(np.kron(i,j)) for i in [I, X, Y, Z] for j in [I, X, Y, Z]]\n",
    "#### 2-qubit |0> and |1>\n",
    "e_state=np.kron(np.asarray([[0,0],[0,1]]),np.asarray([[0,0],[0,1]]))\n",
    "g_state=np.kron(np.asarray([[1,0],[0,0]]),np.asarray([[1,0],[0,0]]))\n",
    "####Density matrix to PTM\n",
    "def densityop_01_2_pauli(density_op):\n",
    "    #assert density_op.ndim !=4,'wrong dim'\n",
    "    A=np.asarray([np.trace(density_op@i_den) for i_den in pauli_basis]).reshape(density_op.size,1)\n",
    "    return A\n",
    "def densityop_pauli_2_01(density_op):\n",
    "    #assert density_op.shape == (len(density_op),1),'wrong dim'\n",
    "    A_den=np.asarray([density_op[i_den]*pauli_basis[i_den] for i_den in range(16)])\n",
    "    B_den=np.zeros((4,4))\n",
    "    for i_den in A_den:\n",
    "        B_den=B_den+i_den\n",
    "    return B_den/4\n",
    "def dephaseing_kraus(p):\n",
    "    A=[np.kron(i_deph,j_deph) for i_deph in [I,Z] for j_deph in [I,Z]]\n",
    "    for i_deph in [0,3]:\n",
    "        A[i_deph] = A[i_deph]*(1-p)\n",
    "    for i_deph in [1,2]:\n",
    "        A[i_deph] = A[i_deph]*np.sqrt(p*(1-p))\n",
    "    return A\n",
    "def depolarizing_kraus(p):\n",
    "    A=[np.kron(i_depo,j_depo) for i_depo in [I,X,Y,Z] for j_depo in [I,X,Y,Z]]\n",
    "    A[0] = A[0]*np.sqrt(1-p)\n",
    "    for i_depo in range(1,len(A)):\n",
    "        A[i_depo]=A[i_depo]*np.sqrt(p/15)\n",
    "    return A\n",
    "if __name__ == '__main__':\n",
    "\n",
    "####### input\n",
    "    rb_types=int(input('-1 rb, 0 decomp_rb, 1 prb\\n'))\n",
    "    max_seq= int(input('max seq \\n'))\n",
    "####### rb gate number i    \n",
    "    for i in tqdm(sequence_length,ascii=True,desc=\"sequence_length\",dynamic_ncols=True):\n",
    "####### generate rb sequence        \n",
    "        pool = Pool()\n",
    "        seq = pool.map(sequence_list_length_by_1,[i]*types)\n",
    "        pool.close()\n",
    "        pool.join()\n",
    "####### rb sequence into probablility\n",
    "        types_probability=[]\n",
    "        m_average=[]\n",
    "        pool = mp.Pool()\n",
    "        repeat_probability = pool.starmap(sequence_to_probability,[(i,None,d,e) for d in range(1) for e in seq ])\n",
    "        pool.close()\n",
    "        pool.join()"
   ]
  },
  {
   "cell_type": "code",
   "execution_count": 1,
   "metadata": {},
   "outputs": [],
   "source": [
    "#rb seq w/inverse\n",
    "import random\n",
    "import numpy as np\n",
    "import pickle\n",
    "from print_large import _print_big_matrix\n",
    "from tqdm import tqdm\n",
    "from multiprocessing import Process, Pool\n",
    "#### 2-qubit pauli basis\n",
    "with open('Cliff_kruas.pkl', 'rb') as f:\n",
    "    Cliff_kruas = pickle.load(f)\n",
    "def rb_seq_fun(seq_number):\n",
    "    np.random.seed()\n",
    "    rb_seq_index= np.random.randint(low=0, high=11520, size=seq_number).tolist()\n",
    "    rb_seq_kraus=np.eye(4)\n",
    "    for i_rb in rb_seq_index:\n",
    "        rb_seq_kraus=Cliff_kruas[i_rb]@rb_seq_kraus\n",
    "    for i_rb in range(11520):\n",
    "        if (np.isclose(abs(np.trace(Cliff_kruas[i_rb]@np.conj(rb_seq_kraus).T)),4)):\n",
    "            rb_seq_index.append(i_rb)\n",
    "            break\n",
    "        else:\n",
    "            assert i_rb != 11519, 'no inverse'\n",
    "            continue\n",
    "    return rb_seq_index\n",
    "if __name__ == '__main__':\n",
    "    rb_seq={}\n",
    "    Max=int(input('max sequence number'))\n",
    "    types=int(input('different types sequence '))\n",
    "    for i in range(1,Max):\n",
    "\n",
    "        pool=Pool()\n",
    "        _rb_seq=pool.map(rb_seq_fun,[i]*types)\n",
    "        rb_seq[i]=_rb_seq\n",
    "        pool.close()\n",
    "        pool.join()\n",
    "    with open('rb_seq.pkl', 'wb') as f:\n",
    "        pickle.dump(rb_seq, f)"
   ]
  },
  {
   "cell_type": "code",
   "execution_count": 13,
   "metadata": {},
   "outputs": [
    {
     "output_type": "error",
     "ename": "FileNotFoundError",
     "evalue": "[Errno 2] No such file or directory: 'Primitive_kruas.pkl'",
     "traceback": [
      "\u001b[0;31m---------------------------------------------------------------------------\u001b[0m",
      "\u001b[0;31mFileNotFoundError\u001b[0m                         Traceback (most recent call last)",
      "\u001b[0;32m<ipython-input-13-fc30401d6828>\u001b[0m in \u001b[0;36m<module>\u001b[0;34m\u001b[0m\n\u001b[1;32m      7\u001b[0m \u001b[0;32mfrom\u001b[0m \u001b[0mmultiprocessing\u001b[0m \u001b[0;32mimport\u001b[0m \u001b[0mProcess\u001b[0m\u001b[0;34m,\u001b[0m \u001b[0mPool\u001b[0m\u001b[0;34m\u001b[0m\u001b[0;34m\u001b[0m\u001b[0m\n\u001b[1;32m      8\u001b[0m \u001b[0;31m#### 2-qubit pauli basis\u001b[0m\u001b[0;34m\u001b[0m\u001b[0;34m\u001b[0m\u001b[0;34m\u001b[0m\u001b[0m\n\u001b[0;32m----> 9\u001b[0;31m \u001b[0;32mwith\u001b[0m \u001b[0mopen\u001b[0m\u001b[0;34m(\u001b[0m\u001b[0;34m'Primitive_kruas.pkl'\u001b[0m\u001b[0;34m,\u001b[0m \u001b[0;34m'rb'\u001b[0m\u001b[0;34m)\u001b[0m \u001b[0;32mas\u001b[0m \u001b[0mf\u001b[0m\u001b[0;34m:\u001b[0m\u001b[0;34m\u001b[0m\u001b[0;34m\u001b[0m\u001b[0m\n\u001b[0m\u001b[1;32m     10\u001b[0m     \u001b[0mPrimitive_kruas\u001b[0m \u001b[0;34m=\u001b[0m \u001b[0mpickle\u001b[0m\u001b[0;34m.\u001b[0m\u001b[0mload\u001b[0m\u001b[0;34m(\u001b[0m\u001b[0mf\u001b[0m\u001b[0;34m)\u001b[0m\u001b[0;34m\u001b[0m\u001b[0;34m\u001b[0m\u001b[0m\n\u001b[1;32m     11\u001b[0m \u001b[0;31m#### weights\u001b[0m\u001b[0;34m\u001b[0m\u001b[0;34m\u001b[0m\u001b[0;34m\u001b[0m\u001b[0m\n",
      "\u001b[0;31mFileNotFoundError\u001b[0m: [Errno 2] No such file or directory: 'Primitive_kruas.pkl'"
     ]
    }
   ],
   "source": [
    "#prb seq w/inverse\n",
    "import random\n",
    "import numpy as np\n",
    "import pickle\n",
    "from print_large import _print_big_matrix\n",
    "from tqdm import tqdm\n",
    "from multiprocessing import Process, Pool\n",
    "#### 2-qubit pauli basis\n",
    "with open('H_P_CNOT_kruas.pkl', 'rb') as f:\n",
    "    Primitive_kruas = pickle.load(f)\n",
    "#### weights ?\n",
    "Primitive_weights=[]\n",
    "\n",
    "def prb_seq_fun(seq_number):\n",
    "    np.random.seed()\n",
    "    prb_seq_index= random.choices([i for i in range(len(Primitive_kruas))], weights=Primitive_weights, k=seq_number).tolist()\n",
    "    prb_seq_kraus=np.eye(4)\n",
    "    for i_rb in prb_seq_index:\n",
    "        prb_seq_kraus=Primitive_kruas[i_rb]@prb_seq_kraus\n",
    "    for i_rb in range(len(Primitive_kruas)):\n",
    "        if (np.isclose(abs(np.trace(Primitive_kruas[i_rb]@np.conj(prb_seq_kraus).T)),4)):\n",
    "            prb_seq_index.append(i_rb)\n",
    "            break\n",
    "        else:\n",
    "            assert i_rb != len(Primitive_kruas)-1, 'no inverse'\n",
    "            continue\n",
    "    return prb_seq_index\n",
    "if __name__ == '__main__':\n",
    "    prb_seq={}\n",
    "    Max=int(input('max sequence number'))\n",
    "    types=int(input('different types sequence '))\n",
    "    for i in range(1,Max):\n",
    "\n",
    "        pool=Pool()\n",
    "        _prb_seq=pool.map(prb_seq_fun,[i]*types)\n",
    "        prb_seq[i]=_prb_seq\n",
    "        pool.close()\n",
    "        pool.join()\n",
    "    with open('prb_seq.pkl', 'wb') as f:\n",
    "        pickle.dump(prb_seq, f)"
   ]
  }
 ]
}
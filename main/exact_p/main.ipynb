{
 "metadata": {
  "language_info": {
   "codemirror_mode": {
    "name": "ipython",
    "version": 3
   },
   "file_extension": ".py",
   "mimetype": "text/x-python",
   "name": "python",
   "nbconvert_exporter": "python",
   "pygments_lexer": "ipython3",
   "version": "3.9.4"
  },
  "orig_nbformat": 2,
  "kernelspec": {
   "name": "python394jvsc74a57bd0ef771dc971e737edaa288c6ac540abc1fe6dec9ca0a8defba06c77439a89f523",
   "display_name": "Python 3.9.4 64-bit ('ibm': conda)"
  },
  "metadata": {
   "interpreter": {
    "hash": "805735b0cad371bf8d84877e4fcfacd6fad020d4fcf8a35b13b73228cee95f2c"
   }
  }
 },
 "nbformat": 4,
 "nbformat_minor": 2,
 "cells": [
  {
   "cell_type": "code",
   "execution_count": 2,
   "metadata": {},
   "outputs": [
    {
     "output_type": "stream",
     "name": "stderr",
     "text": [
      "sequence_length:   0%|          | 0/1 [00:09<?, ?it/s]\n"
     ]
    },
    {
     "output_type": "error",
     "ename": "ZeroDivisionError",
     "evalue": "float division by zero",
     "traceback": [
      "\u001b[0;31m---------------------------------------------------------------------------\u001b[0m",
      "\u001b[0;31mRemoteTraceback\u001b[0m                           Traceback (most recent call last)",
      "\u001b[0;31mRemoteTraceback\u001b[0m: \n\"\"\"\nTraceback (most recent call last):\n  File \"/home/aq29287p/anaconda3/lib/python3.7/multiprocessing/pool.py\", line 121, in worker\n    result = (True, func(*args, **kwds))\n  File \"/home/aq29287p/anaconda3/lib/python3.7/multiprocessing/pool.py\", line 44, in mapstar\n    return list(map(*args))\n  File \"<ipython-input-2-b3d73c6e7bcb>\", line 56, in sequence_to_probability\n    _a, _b = (_lower_bound - my_mean) / my_std, (_upper_bound - my_mean) / my_std\nZeroDivisionError: float division by zero\n\"\"\"",
      "\nThe above exception was the direct cause of the following exception:\n",
      "\u001b[0;31mZeroDivisionError\u001b[0m                         Traceback (most recent call last)",
      "\u001b[0;32m<ipython-input-2-b3d73c6e7bcb>\u001b[0m in \u001b[0;36m<module>\u001b[0;34m\u001b[0m\n\u001b[1;32m     88\u001b[0m         \u001b[0mm_average\u001b[0m\u001b[0;34m=\u001b[0m\u001b[0;34m[\u001b[0m\u001b[0;34m]\u001b[0m\u001b[0;34m\u001b[0m\u001b[0;34m\u001b[0m\u001b[0m\n\u001b[1;32m     89\u001b[0m         \u001b[0mpool\u001b[0m \u001b[0;34m=\u001b[0m \u001b[0mmp\u001b[0m\u001b[0;34m.\u001b[0m\u001b[0mPool\u001b[0m\u001b[0;34m(\u001b[0m\u001b[0;34m)\u001b[0m\u001b[0;34m\u001b[0m\u001b[0;34m\u001b[0m\u001b[0m\n\u001b[0;32m---> 90\u001b[0;31m         \u001b[0mrepeat_probability\u001b[0m \u001b[0;34m=\u001b[0m \u001b[0mpool\u001b[0m\u001b[0;34m.\u001b[0m\u001b[0mmap\u001b[0m\u001b[0;34m(\u001b[0m\u001b[0msequence_to_probability\u001b[0m\u001b[0;34m,\u001b[0m\u001b[0;34m[\u001b[0m \u001b[0me\u001b[0m\u001b[0;34m*\u001b[0m\u001b[0mrepeat\u001b[0m \u001b[0;32mfor\u001b[0m \u001b[0me\u001b[0m \u001b[0;32min\u001b[0m \u001b[0mrb_seq_decompose\u001b[0m\u001b[0;34m[\u001b[0m\u001b[0mi\u001b[0m\u001b[0;34m]\u001b[0m\u001b[0;34m]\u001b[0m\u001b[0;34m)\u001b[0m\u001b[0;34m\u001b[0m\u001b[0;34m\u001b[0m\u001b[0m\n\u001b[0m\u001b[1;32m     91\u001b[0m         \u001b[0mpool\u001b[0m\u001b[0;34m.\u001b[0m\u001b[0mclose\u001b[0m\u001b[0;34m(\u001b[0m\u001b[0;34m)\u001b[0m\u001b[0;34m\u001b[0m\u001b[0;34m\u001b[0m\u001b[0m\n\u001b[1;32m     92\u001b[0m         \u001b[0mpool\u001b[0m\u001b[0;34m.\u001b[0m\u001b[0mjoin\u001b[0m\u001b[0;34m(\u001b[0m\u001b[0;34m)\u001b[0m\u001b[0;34m\u001b[0m\u001b[0;34m\u001b[0m\u001b[0m\n",
      "\u001b[0;32m~/anaconda3/lib/python3.7/multiprocessing/pool.py\u001b[0m in \u001b[0;36mmap\u001b[0;34m(self, func, iterable, chunksize)\u001b[0m\n\u001b[1;32m    266\u001b[0m         \u001b[0;32min\u001b[0m \u001b[0ma\u001b[0m \u001b[0mlist\u001b[0m \u001b[0mthat\u001b[0m \u001b[0;32mis\u001b[0m \u001b[0mreturned\u001b[0m\u001b[0;34m.\u001b[0m\u001b[0;34m\u001b[0m\u001b[0;34m\u001b[0m\u001b[0m\n\u001b[1;32m    267\u001b[0m         '''\n\u001b[0;32m--> 268\u001b[0;31m         \u001b[0;32mreturn\u001b[0m \u001b[0mself\u001b[0m\u001b[0;34m.\u001b[0m\u001b[0m_map_async\u001b[0m\u001b[0;34m(\u001b[0m\u001b[0mfunc\u001b[0m\u001b[0;34m,\u001b[0m \u001b[0miterable\u001b[0m\u001b[0;34m,\u001b[0m \u001b[0mmapstar\u001b[0m\u001b[0;34m,\u001b[0m \u001b[0mchunksize\u001b[0m\u001b[0;34m)\u001b[0m\u001b[0;34m.\u001b[0m\u001b[0mget\u001b[0m\u001b[0;34m(\u001b[0m\u001b[0;34m)\u001b[0m\u001b[0;34m\u001b[0m\u001b[0;34m\u001b[0m\u001b[0m\n\u001b[0m\u001b[1;32m    269\u001b[0m \u001b[0;34m\u001b[0m\u001b[0m\n\u001b[1;32m    270\u001b[0m     \u001b[0;32mdef\u001b[0m \u001b[0mstarmap\u001b[0m\u001b[0;34m(\u001b[0m\u001b[0mself\u001b[0m\u001b[0;34m,\u001b[0m \u001b[0mfunc\u001b[0m\u001b[0;34m,\u001b[0m \u001b[0miterable\u001b[0m\u001b[0;34m,\u001b[0m \u001b[0mchunksize\u001b[0m\u001b[0;34m=\u001b[0m\u001b[0;32mNone\u001b[0m\u001b[0;34m)\u001b[0m\u001b[0;34m:\u001b[0m\u001b[0;34m\u001b[0m\u001b[0;34m\u001b[0m\u001b[0m\n",
      "\u001b[0;32m~/anaconda3/lib/python3.7/multiprocessing/pool.py\u001b[0m in \u001b[0;36mget\u001b[0;34m(self, timeout)\u001b[0m\n\u001b[1;32m    655\u001b[0m             \u001b[0;32mreturn\u001b[0m \u001b[0mself\u001b[0m\u001b[0;34m.\u001b[0m\u001b[0m_value\u001b[0m\u001b[0;34m\u001b[0m\u001b[0;34m\u001b[0m\u001b[0m\n\u001b[1;32m    656\u001b[0m         \u001b[0;32melse\u001b[0m\u001b[0;34m:\u001b[0m\u001b[0;34m\u001b[0m\u001b[0;34m\u001b[0m\u001b[0m\n\u001b[0;32m--> 657\u001b[0;31m             \u001b[0;32mraise\u001b[0m \u001b[0mself\u001b[0m\u001b[0;34m.\u001b[0m\u001b[0m_value\u001b[0m\u001b[0;34m\u001b[0m\u001b[0;34m\u001b[0m\u001b[0m\n\u001b[0m\u001b[1;32m    658\u001b[0m \u001b[0;34m\u001b[0m\u001b[0m\n\u001b[1;32m    659\u001b[0m     \u001b[0;32mdef\u001b[0m \u001b[0m_set\u001b[0m\u001b[0;34m(\u001b[0m\u001b[0mself\u001b[0m\u001b[0;34m,\u001b[0m \u001b[0mi\u001b[0m\u001b[0;34m,\u001b[0m \u001b[0mobj\u001b[0m\u001b[0;34m)\u001b[0m\u001b[0;34m:\u001b[0m\u001b[0;34m\u001b[0m\u001b[0;34m\u001b[0m\u001b[0m\n",
      "\u001b[0;31mZeroDivisionError\u001b[0m: float division by zero"
     ]
    }
   ],
   "source": [
    "from pyquil.simulation.matrices import I, X, Y, Z\n",
    "import numpy as np\n",
    "from forest.benchmarking.operator_tools import kraus2pauli_liouville\n",
    "from print_large import _print_big_matrix\n",
    "import pickle\n",
    "from tqdm import tqdm\n",
    "import multiprocessing as mp\n",
    "import random\n",
    "#gateset1 [1, 9601, 8129, 3103, 2296, 0, 0, 9285, 8118, 2974, 3058, 0, 0, 10523, 9788]\n",
    "#gateset2 [16192, 11846, 15055, 13880, 10476, 10481]\n",
    "###rb_seq_deompose\n",
    "with open('rb_seq_decompose_gateset1.pkl', 'rb') as f:\n",
    "    rb_seq_decompose = pickle.load(f)\n",
    "###primitive gate PTM\n",
    "with open('P_PTM_gateset1.pkl', 'rb') as f:\n",
    "    P_PTM = pickle.load(f)\n",
    "#### 2-qubit pauli basis\n",
    "pauli_basis=[np.asarray(np.kron(i,j)) for i in [I, X, Y, Z] for j in [I, X, Y, Z]]\n",
    "#### 2-qubit |0> and |1>\n",
    "e_state=np.kron(np.asarray([[0,0],[0,1]]),np.asarray([[0,0],[0,1]]))\n",
    "g_state=np.kron(np.asarray([[1,0],[0,0]]),np.asarray([[1,0],[0,0]]))\n",
    "####Density matrix to PTM\n",
    "def densityop_01_2_pauli(density_op):\n",
    "    #assert density_op.ndim !=4,'wrong dim'\n",
    "    A=np.asarray([np.trace(density_op@i_den) for i_den in pauli_basis]).reshape(density_op.size,1)\n",
    "    return A\n",
    "def densityop_pauli_2_01(density_op):\n",
    "    #assert density_op.shape == (len(density_op),1),'wrong dim'\n",
    "    A_den=np.asarray([density_op[i_den]*pauli_basis[i_den] for i_den in range(16)])\n",
    "    B_den=np.zeros((4,4))\n",
    "    for i_den in A_den:\n",
    "        B_den=B_den+i_den\n",
    "    return B_den/4\n",
    "def dephaseing_PTM(p):\n",
    "    A=[np.kron(i_deph,j_deph) for i_deph in [I,Z] for j_deph in [I,Z]]\n",
    "    for i_deph in [0]:\n",
    "        A[i_deph] = A[i_deph]*np.sqrt(p+(1-p)/4)\n",
    "    for i_deph in [1,2,3]:\n",
    "        A[i_deph] = A[i_deph]*np.sqrt((1-p)/4)\n",
    "#########kraus to PTM \n",
    "    return kraus2pauli_liouville(A)\n",
    "def depolarizing_PTM(p):\n",
    "    A=[np.kron(i_depo,j_depo) for i_depo in [I,X,Y,Z] for j_depo in [I,X,Y,Z]]\n",
    "    A[0] = A[0]*np.sqrt(1-15*p/16)\n",
    "    for i_depo in range(1,len(A)):\n",
    "        A[i_depo]=A[i_depo]*np.sqrt(p/16)\n",
    "#########kraus to PTM        \n",
    "    return kraus2pauli_liouville(A)\n",
    "def sequence_to_probability(_rb_seq):\n",
    "    random.seed()\n",
    "    # truncate Gaussian distribute p\n",
    "    _lower_bound = 0\n",
    "    _upper_bound = 1\n",
    "    my_mean = noise_strength\n",
    "    my_std = my_mean*deviation\n",
    "    _a, _b = (_lower_bound - my_mean) / my_std, (_upper_bound - my_mean) / my_std\n",
    "    _random_devi = truncnorm.rvs(_a, _b, len(_rb_seq))\n",
    "####initial state    \n",
    "    _state=densityop_01_2_pauli(g_state)\n",
    "####depo or deph=  noise channel @ Cliff @ state\n",
    "    if noise_channel==0:\n",
    "        for _i in _rb_seq :\n",
    "            _state=depolarizing_PTM[_random_devi]@P_PTM[_i]@_state\n",
    "    elif noise_channel==1:\n",
    "        for _i in _rb_seq :\n",
    "            _state=dephaseing_PTM[_random_devi]@P_PTM[_i]@_state\n",
    "#### diagonal density matrix\n",
    "    _state = np.diagonal(densityop_pauli_2_01(_state))\n",
    "####get prob = [00]*(1-err)+ [01]*err/3 + [10]*err/3 + [11]*err/3\n",
    "    _state_prob = _state[0]*(1-spam_error)+sum(_state[_i]*spam_error/3 for _i in [1,2,3] )\n",
    "\n",
    "    print(_state_prob)\n",
    "    return random.choices([True, False], weights=[_state_prob,1-_state_prob], k=1)[0]\n",
    "if __name__ == '__main__':\n",
    "\n",
    "####### input\n",
    "    rb_types=int(input('-1 rb, 0 decomp_rb, 1 prb\\n'))\n",
    "    max_seq= int(input('max seq \\n'))\n",
    "    spam_error= float(input('SPAM error \\n'))\n",
    "    noise_channel= int(input('depolarizing (0) or dephasing (1) \\n'))\n",
    "    noise_strength= float(input('noisy(0)-----(1)noiseless\\n'))\n",
    "    deviation = float(input('deviation p (%)\\n'))*0.01\n",
    "    repeat = int(input('repeat number\\n'))\n",
    "####### rb gate number i    \n",
    "    for i in tqdm([i for i in range(1,max_seq)],ascii=True,desc=\"sequence_length\",dynamic_ncols=True):\n",
    "####### rb sequence into probablility\n",
    "        types_probability=[]\n",
    "        m_average=[]\n",
    "        pool = mp.Pool()\n",
    "        repeat_probability = pool.map(sequence_to_probability,[ e*repeat for e in rb_seq_decompose[i]])\n",
    "        pool.close()\n",
    "        pool.join()"
   ]
  },
  {
   "cell_type": "code",
   "execution_count": 8,
   "metadata": {},
   "outputs": [
    {
     "output_type": "stream",
     "name": "stderr",
     "text": [
      "100%|██████████| 9/9 [00:53<00:00,  5.91s/it]\n"
     ]
    },
    {
     "output_type": "execute_result",
     "data": {
      "text/plain": [
       "\"    with open('prb_seq.pkl', 'wb') as f:\\n        pickle.dump(prb_seq, f)\""
      ]
     },
     "metadata": {},
     "execution_count": 8
    }
   ],
   "source": [
    "#prb seq w/inverse\n",
    "import random\n",
    "from functools import reduce\n",
    "import numpy as np\n",
    "import pickle\n",
    "from print_large import _print_big_matrix\n",
    "from tqdm import trange\n",
    "from multiprocessing import Pool\n",
    "#### 2-qubit pauli basis\n",
    "with open('H_P_CNOT_kruas.pkl', 'rb') as f:\n",
    "    Primitive_kruas = pickle.load(f)\n",
    "#### weighted\n",
    "Primitive_weights=[15694, 12780, 20232, 15752, 12124, 10492]\n",
    "\n",
    "def prb_seq_fun(seq_number):\n",
    "    random.seed()\n",
    "    prb_seq_index= random.choices([_i for _i in range(len(Primitive_kruas))], weights=Primitive_weights, k=seq_number)\n",
    "    prb_seq_kraus=reduce(lambda x, y : y@x, [Primitive_kruas[_i] for _i in prb_seq_index])\n",
    "\n",
    "    for i_rb in range(len(Primitive_kruas)):\n",
    "        if (np.isclose(abs(np.trace(Primitive_kruas[i_rb]@prb_seq_kraus)),4)):\n",
    "            prb_seq_index.append(i_rb)\n",
    "            return prb_seq_index\n",
    "        elif i_rb==len(Primitive_kruas):\n",
    "            return None\n",
    "if __name__ == '__main__':\n",
    "    prb_seq={}\n",
    "    max_seq_number=int(input('max sequence number'))\n",
    "    types=int(input('different types sequence '))\n",
    "    for i in trange(1,max_seq_number):\n",
    "########init_        \n",
    "        prb_seq[i]=[0]\n",
    "#        while(len(prb_seq[i])<types and j<100):\n",
    "        pool=Pool()\n",
    "        _prb_seq=pool.map(prb_seq_fun,[i]*types*100)\n",
    "        prb_seq[i]=list(filter(None,_prb_seq))\n",
    "        pool.close()\n",
    "        pool.join()\n",
    "\n",
    "'''    with open('prb_seq.pkl', 'wb') as f:\n",
    "        pickle.dump(prb_seq, f)'''"
   ]
  },
  {
   "cell_type": "code",
   "execution_count": 9,
   "metadata": {},
   "outputs": [
    {
     "output_type": "stream",
     "name": "stdout",
     "text": [
      "{1: [[1, 1], [0, 0]], 2: [], 3: [[4, 0, 0, 4], [4, 1, 1, 4]], 4: [], 5: [], 6: [], 7: [], 8: [], 9: []}\n"
     ]
    }
   ],
   "source": [
    "print(prb_seq)"
   ]
  },
  {
   "cell_type": "code",
   "execution_count": 10,
   "metadata": {},
   "outputs": [],
   "source": [
    "#transform rb sequence into prb sequence \n",
    "import pickle\n",
    "import itertools\n",
    "with open('rb_seq.pkl', 'rb') as f:\n",
    "    rb_seq = pickle.load(f)\n",
    "\n",
    "with open('Cliff_index_gateset1.pkl', 'rb') as f:\n",
    "    decomp = pickle.load(f)\n",
    "\n",
    "c={}\n",
    "f={}\n",
    "for i in rb_seq:\n",
    "    b=[]\n",
    "    for j in rb_seq[i]:\n",
    "        a=[]\n",
    "        for k in j:\n",
    "            a.append(decomp[k])\n",
    "        e=list(itertools.chain.from_iterable(a))\n",
    "        b.append(e)\n",
    "    c[i]=b\n",
    "with open('rb_seq_gateset1.pkl', 'wb') as f:\n",
    "    pickle.dump(c, f)\n"
   ]
  },
  {
   "cell_type": "code",
   "execution_count": 2,
   "metadata": {},
   "outputs": [
    {
     "output_type": "stream",
     "name": "stderr",
     "text": [
      "100%|██████████| 1/1 [00:00<00:00,  1.33it/s]\n"
     ]
    }
   ],
   "source": [
    "#rb seq w/ inverse\n",
    "from functools import reduce\n",
    "import numpy as np\n",
    "import pickle\n",
    "from print_large import _print_big_matrix\n",
    "from tqdm import trange\n",
    "from multiprocessing import  Pool\n",
    "### 2-qubit Clifford matrix\n",
    "with open('Cliff_kruas.pkl', 'rb') as f:\n",
    "    Cliff_kruas = pickle.load(f)\n",
    "###generate rb sequence\n",
    "def rb_seq_fun(seq_number):\n",
    "    np.random.seed()\n",
    "### random choose 11520 Clifford matrix\n",
    "    rb_seq_index= np.random.randint(low=0, high=11520, size=seq_number).tolist()\n",
    "### rb sequence matrix\n",
    "    rb_seq_kraus=reduce(lambda x, y : y@x, [Cliff_kruas[_i] for _i in rb_seq_index])\n",
    "### find rb inverse element\n",
    "    for i_rb in range(11520):\n",
    "        if (np.isclose(abs(np.trace(Cliff_kruas[i_rb]@rb_seq_kraus)),4)):\n",
    "            rb_seq_index.append(i_rb)\n",
    "            return rb_seq_index\n",
    "        elif i_rb == 11519:\n",
    "            return False\n",
    "if __name__ == '__main__':\n",
    "    rb_seq={}\n",
    "    max_seq_number=int(input('max sequence number'))\n",
    "    types=int(input('different types sequence '))\n",
    "    for i in trange(1,max_seq_number):\n",
    "        pool=Pool()\n",
    "        rb_seq[i]=pool.map(rb_seq_fun,[i]*types)\n",
    "        assert False not in rb_seq[i], 'false in rbseq'\n",
    "        pool.close()\n",
    "        pool.join()\n",
    "    with open('rb_seq.pkl', 'wb') as f:\n",
    "        pickle.dump(rb_seq, f)\n",
    "        "
   ]
  },
  {
   "cell_type": "code",
   "execution_count": 7,
   "metadata": {},
   "outputs": [
    {
     "output_type": "stream",
     "name": "stdout",
     "text": [
      "3.999999999999995\n"
     ]
    }
   ],
   "source": [
    "a=[1, 3, 8, 13, 14, 7, 1, 2, 7, 14, 7, 13, 1, 8, 4, 13, 7, 1, 8, 2, 14, 10, 1, 2, 13, 1, 14, 10, 1, 7, 1, 14, 7, 14, 4, 1, 7, 8, 2, 9, 13, 14, 1, 7, 10, 13, 14, 1, 9, 13, 1, 14, 1, 4, 13, 8, 14, 2, 7, 14, 2, 3, 8, 2, 4, 9]\n",
    "#check rb seq\n",
    "from functools import reduce\n",
    "import numpy as np\n",
    "import pickle\n",
    "from print_large import _print_big_matrix\n",
    "from tqdm import trange\n",
    "from multiprocessing import  Pool\n",
    "with open('Cliff_kruas.pkl', 'rb') as f:\n",
    "    c = pickle.load(f)\n",
    "with open('P_kruas_gateset1.pkl', 'rb') as f:\n",
    "    p = pickle.load(f)\n",
    "\n",
    "print(abs(np.trace(reduce(lambda x,y: y@x,[p[i] for i in a]))))"
   ]
  },
  {
   "cell_type": "code",
   "execution_count": null,
   "metadata": {},
   "outputs": [],
   "source": []
  }
 ]
}
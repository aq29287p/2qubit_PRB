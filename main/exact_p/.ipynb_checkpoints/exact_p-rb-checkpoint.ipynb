{
 "cells": [
  {
   "cell_type": "code",
   "execution_count": 27,
   "metadata": {
    "tags": []
   },
   "outputs": [],
   "source": [
    "#noiseless rb\n",
    "from pyquil.simulation.matrices import I, X, Y, Z\n",
    "import numpy as np\n",
    "from forest.benchmarking.operator_tools import kraus2pauli_liouville\n",
    "from print_large import _print_big_matrix\n",
    "import pickle\n",
    "from tqdm import tqdm\n",
    "import multiprocessing as mp\n",
    "import random\n",
    "import matplotlib.pyplot as plt\n",
    "import seaborn as sns\n",
    "import pandas as pd\n",
    "from functools import reduce\n",
    "#gateset1 [1, 9601, 8129, 3103, 2296, 0, 0, 9285, 8118, 2974, 3058, 0, 0, 10523, 9788] 5.08\n",
    "#gateset2 [16192, 11846, 15055, 13880, 10476, 10481] 6.76\n",
    " \n",
    "\n",
    "#### 2-qubit pauli basis\n",
    "pauli_basis=[np.asarray(np.kron(i,j)) for i in [I, X, Y, Z] for j in [I, X, Y, Z]]\n",
    "#### 2-qubit |0> and |1>\n",
    "e_state=np.kron(np.asarray([[0,0],[0,1]]),np.asarray([[0,0],[0,1]]))\n",
    "g_state=np.kron(np.asarray([[1,0],[0,0]]),np.asarray([[1,0],[0,0]]))\n",
    "####Density matrix to PTM\n",
    "def densityop_01_2_pauli(density_op):\n",
    "    A=np.asarray([np.trace(density_op@i_den) for i_den in pauli_basis]).reshape(density_op.size,1)\n",
    "    return A\n",
    "def densityop_pauli_2_01(density_op):\n",
    "    A_den=np.asarray([density_op[i_den]*pauli_basis[i_den] for i_den in range(16)])\n",
    "    B_den=np.zeros((4,4))\n",
    "    for i_den in A_den:\n",
    "        B_den=B_den+i_den\n",
    "    return B_den/4\n",
    "def dephaseing_PTM(p):\n",
    "    A=[np.kron(i_deph,j_deph) for i_deph in [I,Z] for j_deph in [I,Z]]\n",
    "    for i_deph in [0]:\n",
    "        A[i_deph] = A[i_deph]*np.sqrt(p+(1-p)/4)\n",
    "    for i_deph in [1,2,3]:\n",
    "        A[i_deph] = A[i_deph]*np.sqrt((1-p)/4)\n",
    "#########kraus to PTM \n",
    "    return kraus2pauli_liouville(A)\n",
    "def depolarizing_PTM(p):\n",
    "    p=1-p\n",
    "    A=[np.kron(i_depo,j_depo) for i_depo in [I,X,Y,Z] for j_depo in [I,X,Y,Z]]\n",
    "    A[0] = A[0]*np.sqrt(1-15*p/16)\n",
    "    for i_depo in range(1,len(A)):\n",
    "        A[i_depo]=A[i_depo]*np.sqrt(p/16)\n",
    "#########kraus to PTM        \n",
    "    return kraus2pauli_liouville(A)\n",
    "def sequence_to_probability(_rb_seq):\n",
    "####initial state    \n",
    "    _state=densityop_01_2_pauli(g_state)\n",
    "####depo or deph=  noise channel @ Cliff @ state\n",
    "    if noise_channel==0:\n",
    "        noise=depolarizing_PTM(noise_strength)\n",
    "        _state=reduce(lambda x,y: y@noise@x, [P_PTM[_i] for _i in _rb_seq])@_state\n",
    "    elif noise_channel==1:\n",
    "        noise=dephaseing_PTM(noise_strength)\n",
    "        _state=reduce(lambda x,y: y@noise@x, [P_PTM[_i] for _i in _rb_seq])@_state\n",
    "#### inverse no noise        \n",
    "####get [00] prob\n",
    "    return np.real(densityop_pauli_2_01(_state)[0][0])\n",
    "\n"
   ]
  },
  {
   "cell_type": "code",
   "execution_count": 40,
   "metadata": {},
   "outputs": [
    {
     "name": "stdout",
     "output_type": "stream",
     "text": [
      "rb \n",
      "\n",
      "gateset \n",
      "2\n",
      "max seq \n",
      "17\n",
      "depolarizing (0) or dephasing (1) \n",
      "1\n",
      "noisy(0)-----(1)noiseless\n",
      "0.9\n"
     ]
    },
    {
     "name": "stderr",
     "output_type": "stream",
     "text": [
      "sequence_length: 100%|##########| 16/16 [00:23<00:00,  1.50s/it]\n"
     ]
    }
   ],
   "source": [
    "\n",
    "if __name__ == '__main__':\n",
    "\n",
    "####### input\n",
    "    print('rb \\n')\n",
    "    gateset=int(input('gateset \\n'))\n",
    "    max_seq= int(input('max seq \\n'))\n",
    "    noise_channel= int(input('depolarizing (0) or dephasing (1) \\n'))\n",
    "    noise_strength= float(input('noisy(0)-----(1)noiseless\\n'))\n",
    "    data={}\n",
    "###primitive gate PTM\n",
    "    with open('P_PTM_gateset'+str(gateset)+'.pkl', 'rb') as f:\n",
    "        P_PTM = pickle.load(f)\n",
    "###rb_seq_deompose\n",
    "    with open('rb_seq_gateset'+str(gateset)+'.pkl', 'rb') as f:\n",
    "        rb_seq_decompose = pickle.load(f)\n",
    "####### rb gate number i    \n",
    "    for i in tqdm(list(filter(lambda x: x<max_seq, list(rb_seq_decompose.keys()))),ascii=True,desc=\"sequence_length\",dynamic_ncols=True):\n",
    "####### rb sequence into probablility\n",
    "        pool=mp.Pool()\n",
    "        repeat_probability = pool.map(sequence_to_probability,rb_seq_decompose[i])\n",
    "        pool.close()\n",
    "        pool.join()\n",
    "        data[i]=repeat_probability\n",
    "    #df = pd.DataFrame(data)\n",
    "    #df.to_csv('data.csv')\n",
    "    with open('rbdata_gateset'+str(gateset)+'.pkl', 'wb') as f:\n",
    "        pickle.dump(data, f)\n",
    "#    print('real_p=',(np.real(sum(np.diagonal(dephaseing_PTM(0.9)))-1))/15)"
   ]
  },
  {
   "cell_type": "code",
   "execution_count": 41,
   "metadata": {
    "scrolled": false
   },
   "outputs": [
    {
     "data": {
      "image/png": "[encoded data removed]",
      "text/plain": [
       "<Figure size 432x288 with 1 Axes>"
      ]
     },
     "metadata": {
      "needs_background": "light"
     },
     "output_type": "display_data"
    },
    {
     "name": "stdout",
     "output_type": "stream",
     "text": [
      "fitting p =  0.89945\n",
      "fitting perr =  0.0028867\n"
     ]
    },
    {
     "data": {
      "image/png": "[encoded data removed]",
      "text/plain": [
       "<Figure size 432x288 with 1 Axes>"
      ]
     },
     "metadata": {
      "needs_background": "light"
     },
     "output_type": "display_data"
    }
   ],
   "source": [
    "\n",
    "with open('rbdata_gateset'+str(gateset)+'.pkl', 'rb') as f:\n",
    "    data = pickle.load(f)\n",
    "sns.violinplot(data=[data[i] for i in list(data.keys())])\n",
    "plt.axhline(y=0.25)\n",
    "plt.show()\n",
    "\n",
    "##########################################################################\n",
    "### Fit\n",
    "import os\n",
    "import numpy as np\n",
    "import fnmatch\n",
    "import matplotlib.pyplot as plt\n",
    "from scipy.optimize import curve_fit\n",
    "\n",
    "#fitting function\n",
    "def fit_p(x,p):\n",
    "    return 0.75*p**x+0.25\n",
    "##############\n",
    "def plot(sequence_length,p_mean,p_std):\n",
    "#####fit\n",
    "    sequence_length=[i*6.76 for i in sequence_length]\n",
    "    mean,cov = curve_fit(fit_p,sequence_length,p_mean,p0=[0.5],bounds=(0,1))\n",
    "    ##,sigma=p_std, absolute_sigma = True,\n",
    "    print('fitting p = ','%.5g' % mean[0])\n",
    "    print('fitting perr = ','%.5g' % np.sqrt(np.diag(cov)))\n",
    "########plot\n",
    "    fig = plt.figure()\n",
    "    ax = fig.add_subplot(111)\n",
    "    ax.plot(sequence_length,p_mean,'.',color='r',markerfacecolor='none',markersize=9,label='gate_set1_RB')\n",
    "    ax.plot(sequence_length,fit_p(sequence_length, mean),'-',color='r',label='gate_set1_fit')\n",
    "\n",
    "    #ax.set_xscale('log')\n",
    "    ax.legend(loc='best')\n",
    "    plt.xscale('log')\n",
    "    plt.title('RB')\n",
    "    plt.savefig('RB'+str(gateset)+'.png')\n",
    "plot(list(data.keys()),[np.mean(data[i]) for i in data],[np.std(data[i]) for i in data])\n"
   ]
  },
  {
   "cell_type": "code",
   "execution_count": 59,
   "metadata": {},
   "outputs": [
    {
     "data": {
      "image/png": "[encoded data removed]",
      "text/plain": [
       "<Figure size 432x288 with 1 Axes>"
      ]
     },
     "metadata": {
      "needs_background": "light"
     },
     "output_type": "display_data"
    },
    {
     "name": "stdout",
     "output_type": "stream",
     "text": [
      "fitting p =  0.548\n"
     ]
    },
    {
     "data": {
      "image/png": "[encoded data removed]",
      "text/plain": [
       "<Figure size 432x288 with 1 Axes>"
      ]
     },
     "metadata": {
      "needs_background": "light"
     },
     "output_type": "display_data"
    }
   ],
   "source": [
    "\n",
    "a=list(data.keys())\n",
    "b=a[90:]\n",
    "sns.violinplot(data=[data[i] for i in b])\n",
    "plt.axhline(y=0.25)\n",
    "plt.show()\n",
    "\n",
    "\n",
    "#fitting function\n",
    "def fit_p(x,p):\n",
    "    return 0.75*p**x+0.25\n",
    "##############\n",
    "def plot(sequence_length,p_mean,p_std):\n",
    "#####fit\n",
    "    sequence_length=[i/5.8 for i in sequence_length]\n",
    "    mean,cov = curve_fit(fit_p, sequence_length,p_mean,p0=[0.5],bounds=(0,1))\n",
    "    ##,sigma=p_std, absolute_sigma = True,\n",
    "    print('fitting p = ','%.3g' % mean[0])\n",
    "    \n",
    "########plot\n",
    "    fig = plt.figure()\n",
    "    ax = fig.add_subplot(111)\n",
    "    ax.plot(sequence_length,p_mean,'.',color='r',markerfacecolor='none',markersize=9,label='gate_set1_RB')\n",
    "    ax.plot(sequence_length,fit_p(sequence_length, mean),'-',color='r',label='gate_set1_fit')\n",
    "\n",
    "    #ax.set_xscale('log')\n",
    "    ax.legend(loc='best')\n",
    "    plt.xscale('log')\n",
    "    plt.title('RB')\n",
    "    #plt.savefig('PRB'+str(gateset)+'.png')\n",
    "plot(b,[np.mean(data[i]) for i in b],[np.std(data[i]) for i in b])\n"
   ]
  },
  {
   "cell_type": "code",
   "execution_count": 14,
   "metadata": {},
   "outputs": [
    {
     "name": "stderr",
     "output_type": "stream",
     "text": [
      "/home/r07222078/anaconda3/envs/prb/lib/python3.9/site-packages/pyquil/gate_matrices.py:21: FutureWarning: The code in pyquil.gate_matrices has been moved to pyquil.simulation.matrices, please update your import statements.\n",
      "  warnings.warn(\n"
     ]
    }
   ],
   "source": [
    "#######################\n",
    "###irb\n",
    "from pyquil.simulation.matrices import I, X, Y, Z\n",
    "import numpy as np\n",
    "from forest.benchmarking.operator_tools import kraus2pauli_liouville\n",
    "from print_large import _print_big_matrix\n",
    "import pickle\n",
    "from tqdm import tqdm\n",
    "import multiprocessing as mp\n",
    "import random\n",
    "import matplotlib.pyplot as plt\n",
    "import seaborn as sns\n",
    "import pandas as pd\n",
    "from functools import reduce\n",
    "#gateset1 [1, 9601, 8129, 3103, 2296, 0, 0, 9285, 8118, 2974, 3058, 0, 0, 10523, 9788] 5.805\n",
    "#gateset2 [16192, 11846, 15055, 13880, 10476, 10481] 6.76\n",
    "\n",
    "#### 2-qubit pauli basis\n",
    "pauli_basis=[np.asarray(np.kron(i,j)) for i in [I, X, Y, Z] for j in [I, X, Y, Z]]\n",
    "#### 2-qubit |0> and |1>\n",
    "e_state=np.kron(np.asarray([[0,0],[0,1]]),np.asarray([[0,0],[0,1]]))\n",
    "g_state=np.kron(np.asarray([[1,0],[0,0]]),np.asarray([[1,0],[0,0]]))\n",
    "####Density matrix to PTM\n",
    "def densityop_01_2_pauli(density_op):\n",
    "    A=np.asarray([np.trace(density_op@i_den) for i_den in pauli_basis]).reshape(density_op.size,1)\n",
    "    return A\n",
    "def densityop_pauli_2_01(density_op):\n",
    "    A_den=np.asarray([density_op[i_den]*pauli_basis[i_den] for i_den in range(16)])\n",
    "    B_den=np.zeros((4,4))\n",
    "    for i_den in A_den:\n",
    "        B_den=B_den+i_den\n",
    "    return B_den/4\n",
    "def dephaseing_PTM(p):\n",
    "    A=[np.kron(i_deph,j_deph) for i_deph in [I,Z] for j_deph in [I,Z]]\n",
    "    for i_deph in [0]:\n",
    "        A[i_deph] = A[i_deph]*np.sqrt(p+(1-p)/4)\n",
    "    for i_deph in [1,2,3]:\n",
    "        A[i_deph] = A[i_deph]*np.sqrt((1-p)/4)\n",
    "#########kraus to PTM \n",
    "    return kraus2pauli_liouville(A)\n",
    "def depolarizing_PTM(p):\n",
    "    p=1-p\n",
    "    A=[np.kron(i_depo,j_depo) for i_depo in [I,X,Y,Z] for j_depo in [I,X,Y,Z]]\n",
    "    A[0] = A[0]*np.sqrt(1-15*p/16)\n",
    "    for i_depo in range(1,len(A)):\n",
    "        A[i_depo]=A[i_depo]*np.sqrt(p/16)\n",
    "#########kraus to PTM        \n",
    "    return kraus2pauli_liouville(A)\n",
    "def sequence_to_probability(_rb_seq):\n",
    "####initial state    \n",
    "    _state=densityop_01_2_pauli(g_state)\n",
    "####depo or deph=  noise channel @ Cliff @ state\n",
    "    if noise_channel==0:\n",
    "        noise=depolarizing_PTM(noise_strength)\n",
    "        _state=reduce(lambda x,y: y@noise@x, [P_PTM[_i] for _i in _rb_seq])@_state\n",
    "    elif noise_channel==1:\n",
    "        noise=dephaseing_PTM(noise_strength)\n",
    "        _state=reduce(lambda x,y: y@noise@x, [P_PTM[_i] for _i in _rb_seq])@_state\n",
    "#### inverse no noise        \n",
    "####get [00] prob\n",
    "    return np.real(densityop_pauli_2_01(_state)[0][0])\n",
    "\n"
   ]
  },
  {
   "cell_type": "code",
   "execution_count": 15,
   "metadata": {},
   "outputs": [
    {
     "name": "stdout",
     "output_type": "stream",
     "text": [
      "irb(1) or NOT (0 )\n",
      "1\n",
      "gateset \n",
      "1\n",
      "max seq \n",
      "10\n",
      "depolarizing (0) or dephasing (1) \n",
      "0\n",
      "noisy(0)-----(1)noiseless\n",
      "0.9\n"
     ]
    },
    {
     "name": "stderr",
     "output_type": "stream",
     "text": [
      "sequence_length: 100%|##########| 9/9 [00:17<00:00,  1.93s/it]\n",
      "sequence_length: 100%|##########| 9/9 [00:18<00:00,  2.06s/it]\n"
     ]
    }
   ],
   "source": [
    "\n",
    "if __name__ == '__main__':\n",
    "\n",
    "####### input\n",
    "    irb=bool(input('irb(1) or NOT (0 )\\n'))\n",
    "    gateset=int(input('gateset \\n'))\n",
    "    max_seq= int(input('max seq \\n'))\n",
    "    noise_channel= int(input('depolarizing (0) or dephasing (1) \\n'))\n",
    "    noise_strength= float(input('noisy(0)-----(1)noiseless\\n'))\n",
    "    irb_gate=int(input('interleaved gate\\n'))\n",
    "###primitive gate PTM\n",
    "    with open('P_PTM_gateset'+str(gateset)+'.pkl', 'rb') as f:\n",
    "        P_PTM = pickle.load(f)\n",
    "###rb_seq_deompose\n",
    "    with open('rb_seq_gateset'+str(gateset)+'.pkl', 'rb') as f:\n",
    "        rb_seq_decompose = pickle.load(f)\n",
    "    data={}\n",
    "####### rb gate number i    \n",
    "    for i in tqdm(list(filter(lambda x: x<max_seq, list(rb_seq_decompose.keys()))),ascii=True,desc=\"sequence_length\",dynamic_ncols=True):\n",
    "####### rb sequence into probablility\n",
    "        pool=mp.Pool()\n",
    "        repeat_probability = pool.map(sequence_to_probability,rb_seq_decompose[i])\n",
    "        pool.close()\n",
    "        pool.join()\n",
    "        data[i]=repeat_probability\n",
    "    #df = pd.DataFrame(data)\n",
    "    #df.to_csv('data.csv')\n",
    "    with open('rbdata_gateset'+str(gateset)+'.pkl', 'wb') as f:\n",
    "        pickle.dump(data, f)\n",
    "#    print('real_p=',(np.real(sum(np.diagonal(dephaseing_PTM(0.9)))-1))/15)\n",
    "########################################################################################################################\n",
    "########################################################################################################################\n",
    "########################################################################################################################\n",
    "    if irb==True:\n",
    "###irb_seq_deompose\n",
    "        with open(str(irb_gate)+'irb_seq_gateset'+str(gateset)+'.pkl', 'rb') as f:\n",
    "            irb_seq_decompose = pickle.load(f)\n",
    "        irb_data={}\n",
    "####### irb gate number i    \n",
    "        for i in tqdm(list(filter(lambda x: x<max_seq, list(irb_seq_decompose.keys()))),ascii=True,desc=\"sequence_length\",dynamic_ncols=True):\n",
    "####### irb sequence into probablility\n",
    "            pool=mp.Pool()\n",
    "            repeat_probability = pool.map(sequence_to_probability,irb_seq_decompose[i])\n",
    "            pool.close()\n",
    "            pool.join()\n",
    "            irb_data[i]=repeat_probability\n",
    "        #df = pd.DataFrame(data)\n",
    "        #df.to_csv('data.csv')\n",
    "        with open(str(irb_gate)+'irbdata_gateset'+str(gateset)+'.pkl', 'wb') as f:\n",
    "            pickle.dump(irb_data, f)"
   ]
  },
  {
   "cell_type": "code",
   "execution_count": 17,
   "metadata": {},
   "outputs": [
    {
     "data": {
      "image/png": "[encoded data removed]",
      "text/plain": [
       "<Figure size 432x288 with 1 Axes>"
      ]
     },
     "metadata": {
      "needs_background": "light"
     },
     "output_type": "display_data"
    },
    {
     "name": "stdout",
     "output_type": "stream",
     "text": [
      "fitting p =  0.85118\n",
      "fitting perr =  0.0077795\n"
     ]
    },
    {
     "data": {
      "image/png": "[encoded data removed]",
      "text/plain": [
       "<Figure size 432x288 with 1 Axes>"
      ]
     },
     "metadata": {
      "needs_background": "light"
     },
     "output_type": "display_data"
    }
   ],
   "source": [
    "\n",
    "with open('rbdata_gateset'+str(gateset)+'.pkl', 'rb') as f:\n",
    "    data = pickle.load(f)\n",
    "sns.violinplot(data=[data[i] for i in list(data.keys())])\n",
    "plt.axhline(y=0.25)\n",
    "plt.show()\n",
    "\n",
    "##########################################################################\n",
    "### Fit\n",
    "import numpy as np\n",
    "import fnmatch\n",
    "import matplotlib.pyplot as plt\n",
    "from scipy.optimize import curve_fit\n",
    "\n",
    "#fitting function\n",
    "def fit_p(x,p):\n",
    "    return 0.75*p**x+0.25\n",
    "##############\n",
    "def plot(sequence_length,p_mean,p_std):\n",
    "#####fit\n",
    "    sequence_length=[i*5.8 for i in sequence_length]\n",
    "    mean,cov = curve_fit(fit_p,sequence_length,p_mean,p0=[0.5],bounds=(0,1))\n",
    "    ##,sigma=p_std, absolute_sigma = True,\n",
    "    print('fitting p = ','%.5g' % mean[0])\n",
    "    print('fitting perr = ','%.5g' % np.sqrt(np.diag(cov)))\n",
    "########plot\n",
    "    fig = plt.figure()\n",
    "    ax = fig.add_subplot(111)\n",
    "    ax.plot(sequence_length,p_mean,'.',color='r',markerfacecolor='none',markersize=9,label='gate_set1_RB')\n",
    "    ax.plot(sequence_length,fit_p(sequence_length, mean),'-',color='r',label='gate_set1_fit')\n",
    "\n",
    "    #ax.set_xscale('log')\n",
    "    ax.legend(loc='best')\n",
    "    plt.xscale('log')\n",
    "    plt.title('RB')\n",
    "    plt.savefig('RB'+str(gateset)+'.png')\n",
    "plot(list(data.keys()),[np.mean(data[i]) for i in data],[np.std(data[i]) for i in data])\n"
   ]
  },
  {
   "cell_type": "code",
   "execution_count": 16,
   "metadata": {},
   "outputs": [
    {
     "data": {
      "image/png": "[encoded data removed]",
      "text/plain": [
       "<Figure size 432x288 with 1 Axes>"
      ]
     },
     "metadata": {
      "needs_background": "light"
     },
     "output_type": "display_data"
    },
    {
     "name": "stdout",
     "output_type": "stream",
     "text": [
      "fitting p =  0.83176\n",
      "fitting perr =  0.0072515\n"
     ]
    },
    {
     "data": {
      "image/png": "[encoded data removed]",
      "text/plain": [
       "<Figure size 432x288 with 1 Axes>"
      ]
     },
     "metadata": {
      "needs_background": "light"
     },
     "output_type": "display_data"
    }
   ],
   "source": [
    "\n",
    "with open(str(irb_gate)+'irbdata_gateset'+str(gateset)+'.pkl', 'rb') as f:\n",
    "    data = pickle.load(f)\n",
    "sns.violinplot(data=[data[i] for i in list(data.keys())])\n",
    "plt.axhline(y=0.25)\n",
    "plt.show()\n",
    "\n",
    "##########################################################################\n",
    "### Fit\n",
    "import numpy as np\n",
    "import fnmatch\n",
    "import matplotlib.pyplot as plt\n",
    "from scipy.optimize import curve_fit\n",
    "\n",
    "#fitting function\n",
    "def fit_p(x,p):\n",
    "    return 0.75*p**x+0.25\n",
    "##############\n",
    "def plot(sequence_length,p_mean,p_std):\n",
    "#####fit\n",
    "    sequence_length=[i*5.8 for i in sequence_length]\n",
    "    mean,cov = curve_fit(fit_p,sequence_length,p_mean,p0=[0.5],bounds=(0,1))\n",
    "    ##,sigma=p_std, absolute_sigma = True,\n",
    "    print('fitting p = ','%.5g' % mean[0])\n",
    "    print('fitting perr = ','%.5g' % np.sqrt(np.diag(cov)))\n",
    "########plot\n",
    "    fig = plt.figure()\n",
    "    ax = fig.add_subplot(111)\n",
    "    ax.plot(sequence_length,p_mean,'.',color='r',markerfacecolor='none',markersize=9,label='gate_set1_RB')\n",
    "    ax.plot(sequence_length,fit_p(sequence_length, mean),'-',color='r',label='gate_set1_fit')\n",
    "\n",
    "    #ax.set_xscale('log')\n",
    "    ax.legend(loc='best')\n",
    "    plt.xscale('log')\n",
    "    plt.title(str(irb_gate)+'iRB')\n",
    "    plt.savefig(str(irb_gate)+'iRB'+str(gateset)+'.png')\n",
    "plot(list(data.keys()),[np.mean(data[i]) for i in data],[np.std(data[i]) for i in data])\n"
   ]
  },
  {
   "cell_type": "code",
   "execution_count": 18,
   "metadata": {},
   "outputs": [
    {
     "data": {
      "text/plain": [
       "0.977184614300148"
      ]
     },
     "execution_count": 18,
     "metadata": {},
     "output_type": "execute_result"
    }
   ],
   "source": [
    "0.83176/0.85118"
   ]
  },
  {
   "cell_type": "code",
   "execution_count": null,
   "metadata": {},
   "outputs": [],
   "source": []
  }
 ],
 "metadata": {
  "kernelspec": {
   "display_name": "Python 3",
   "language": "python",
   "name": "python3"
  },
  "language_info": {
   "codemirror_mode": {
    "name": "ipython",
    "version": 3
   },
   "file_extension": ".py",
   "mimetype": "text/x-python",
   "name": "python",
   "nbconvert_exporter": "python",
   "pygments_lexer": "ipython3",
   "version": "3.9.5"
  },
  "metadata": {
   "interpreter": {
    "hash": "967eb521afe5108582bf6b8f55cc5bf35ece3ff26b01551ff0b84da265da232b"
   }
  }
 },
 "nbformat": 4,
 "nbformat_minor": 2
}

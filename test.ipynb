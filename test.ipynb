{
 "metadata": {
  "language_info": {
   "codemirror_mode": {
    "name": "ipython",
    "version": 3
   },
   "file_extension": ".py",
   "mimetype": "text/x-python",
   "name": "python",
   "nbconvert_exporter": "python",
   "pygments_lexer": "ipython3",
   "version": "3.7.7"
  },
  "orig_nbformat": 2,
  "kernelspec": {
   "name": "python377jvsc74a57bd0ffb25138421c4c6a9b68505b496a2c6bd4941a5d60eeaba86803049f9658758d",
   "display_name": "Python 3.7.7 64-bit ('py37': conda)"
  }
 },
 "nbformat": 4,
 "nbformat_minor": 2,
 "cells": [
  {
   "cell_type": "code",
   "execution_count": 2,
   "metadata": {
    "tags": []
   },
   "outputs": [
    {
     "output_type": "stream",
     "name": "stdout",
     "text": [
      "[16192, 11846, 15055, 13880, 10476, 10481, 0, 0, 0, 0, 0, 0, 0, 0, 0]\n"
     ]
    }
   ],
   "source": [
    "import pickle\n",
    "import itertools\n",
    "\n",
    "with open('Cliff_index_gateset2.pkl', 'rb') as f:\n",
    "    a = pickle.load(f)\n",
    "\n",
    "a=list(itertools.chain.from_iterable(a))\n",
    "b=[a.count(i) for i in range(15)]\n",
    "print(b)\n"
   ]
  },
  {
   "cell_type": "code",
   "execution_count": null,
   "metadata": {},
   "outputs": [],
   "source": [
    "[1, 9601, 8129, 3103, 2296, 0, 0, 9285, 8118, 2974, 3058, 0, 0, 10523, 9788]"
   ]
  },
  {
   "cell_type": "code",
   "execution_count": 53,
   "metadata": {},
   "outputs": [
    {
     "output_type": "stream",
     "name": "stdout",
     "text": [
      "1.0  .   .   .   .   .   .   .   .   .   .   .   .   .   .   .  \n .   .   .   .   .   .   .   .   .   .   .   .   .   .   .   .  \n .   .   .   .   .   .   .   .   .   .   .   .   .   .   .   .  \n .   .   .  1.0  .   .   .   .   .   .   .   .   .   .   .   .  \n .   .   .   .   .   .   .   .   .   .   .   .   .   .   .   .  \n .   .   .   .   .   .   .   .   .   .   .   .   .   .   .   .  \n .   .   .   .   .   .   .   .   .   .   .   .   .   .   .   .  \n .   .   .   .   .   .   .   .   .   .   .   .   .   .   .   .  \n .   .   .   .   .   .   .   .   .   .   .   .   .   .   .   .  \n .   .   .   .   .   .   .   .   .   .   .   .   .   .   .   .  \n .   .   .   .   .   .   .   .   .   .   .   .   .   .   .   .  \n .   .   .   .   .   .   .   .   .   .   .   .   .   .   .   .  \n .   .   .   .   .   .   .   .   .   .   .   .  1.0  .   .   .  \n .   .   .   .   .   .   .   .   .   .   .   .   .   .   .   .  \n .   .   .   .   .   .   .   .   .   .   .   .   .   .   .   .  \n .   .   .   .   .   .   .   .   .   .   .   .   .   .   .  1.0 \n"
     ]
    },
    {
     "output_type": "execute_result",
     "data": {
      "text/plain": [
       "'for i in c:\\n    state += i @e_state@ np.conj(i).T\\nfor i in range(4):\\n    print(state[i][i])'"
      ]
     },
     "metadata": {},
     "execution_count": 53
    }
   ],
   "source": [
    "from pyquil.simulation.matrices import I, X, Y, Z\n",
    "import numpy as np\n",
    "from forest.benchmarking.operator_tools import kraus2pauli_liouville\n",
    "from print_large import _print_big_matrix\n",
    "import pickle\n",
    "#gateset1 [1, 9601, 8129, 3103, 2296, 0, 0, 9285, 8118, 2974, 3058, 0, 0, 10523, 9788]\n",
    "#gateset2 [16192, 11846, 15055, 13880, 10476, 10481]\n",
    "###rb_seq_deompose\n",
    "with open('rb_seq_decompose_gateset1.pkl', 'rb') as f:\n",
    "    rb_seq_decompose = pickle.load(f)\n",
    "###primitive gate PTM\n",
    "with open('P_PTM_gateset1.pkl', 'rb') as f:\n",
    "    P_PTM = pickle.load(f)\n",
    "#### 2-qubit pauli basis\n",
    "pauli_basis=[np.asarray(np.kron(i,j)) for i in [I, X, Y, Z] for j in [I, X, Y, Z]]\n",
    "#### 2-qubit |0> and |1>\n",
    "e_state=np.kron(np.asarray([[0+0j,0],[0,1]]),np.asarray([[0,0],[0,1]]))\n",
    "g_state=np.kron(np.asarray([[1+0j,0],[0,0]]),np.asarray([[1,0],[0,0]]))\n",
    "####Density matrix to PTM\n",
    "def densityop_01_2_pauli(density_op):\n",
    "    #assert density_op.ndim !=4,'wrong dim'\n",
    "    A=np.asarray([np.trace(density_op@i_den) for i_den in pauli_basis]).reshape(density_op.size,1)\n",
    "    return A\n",
    "def densityop_pauli_2_01(density_op):\n",
    "    #assert density_op.shape == (len(density_op),1),'wrong dim'\n",
    "    A_den=np.asarray([density_op[i_den]*pauli_basis[i_den] for i_den in range(16)])\n",
    "    B_den=np.zeros((4,4))\n",
    "    for i_den in A_den:\n",
    "        B_den=B_den+i_den\n",
    "    return B_den/4\n",
    "\n",
    "def depolarizing_PTM(p):\n",
    "    A=[np.kron(i_depo,j_depo) for i_depo in [I,X,Y,Z] for j_depo in [I,X,Y,Z]]\n",
    "    A[0] = A[0]*np.sqrt(1-15*p/16)\n",
    "    for i_depo in range(1,len(A)):\n",
    "        A[i_depo]=A[i_depo]*np.sqrt(p/16)\n",
    "#########kraus to PTM        \n",
    "    return A\n",
    "def dephaseing_PTM(p):\n",
    "    A=[np.kron(i_deph,j_deph) for i_deph in [I,Z] for j_deph in [I,Z]]\n",
    "    for i_deph in [0]:\n",
    "        A[i_deph] = A[i_deph]*np.sqrt(p+(1-p)/4)\n",
    "    for i_deph in [1,2,3]:\n",
    "        A[i_deph] = A[i_deph]*np.sqrt((1-p)/4)\n",
    "#########kraus to PTM \n",
    "    return kraus2pauli_liouville(A)\n",
    "state=np.zeros((4,4),dtype=complex)\n",
    "c=dephaseing_PTM(0)\n",
    "_print_big_matrix(c)\n",
    "'''for i in c:\n",
    "    state += i @e_state@ np.conj(i).T\n",
    "for i in range(4):\n",
    "    print(state[i][i])'''\n",
    " "
   ]
  },
  {
   "cell_type": "code",
   "execution_count": null,
   "metadata": {},
   "outputs": [],
   "source": []
  }
 ]
}
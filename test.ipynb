{
 "metadata": {
  "language_info": {
   "codemirror_mode": {
    "name": "ipython",
    "version": 3
   },
   "file_extension": ".py",
   "mimetype": "text/x-python",
   "name": "python",
   "nbconvert_exporter": "python",
   "pygments_lexer": "ipython3",
   "version": "3.7.7"
  },
  "orig_nbformat": 2,
  "kernelspec": {
   "name": "python377jvsc74a57bd0ffb25138421c4c6a9b68505b496a2c6bd4941a5d60eeaba86803049f9658758d",
   "display_name": "Python 3.7.7 64-bit ('py37': conda)"
  }
 },
 "nbformat": 4,
 "nbformat_minor": 2,
 "cells": [
  {
   "cell_type": "code",
   "execution_count": 2,
   "metadata": {
    "tags": []
   },
   "outputs": [
    {
     "output_type": "stream",
     "name": "stdout",
     "text": [
      "[16192, 11846, 15055, 13880, 10476, 10481, 0, 0, 0, 0, 0, 0, 0, 0, 0]\n"
     ]
    }
   ],
   "source": [
    "import pickle\n",
    "import itertools\n",
    "\n",
    "with open('Cliff_index_gateset2.pkl', 'rb') as f:\n",
    "    a = pickle.load(f)\n",
    "\n",
    "a=list(itertools.chain.from_iterable(a))\n",
    "b=[a.count(i) for i in range(15)]\n",
    "print(b)\n"
   ]
  },
  {
   "cell_type": "code",
   "execution_count": null,
   "metadata": {},
   "outputs": [],
   "source": [
    "[1, 9601, 8129, 3103, 2296, 0, 0, 9285, 8118, 2974, 3058, 0, 0, 10523, 9788]"
   ]
  },
  {
   "cell_type": "code",
   "execution_count": 10,
   "metadata": {},
   "outputs": [
    {
     "output_type": "stream",
     "name": "stdout",
     "text": [
      "[[1, 1], [2, 2], [1, 1], [2, 2]]\n[[1, 1], [2, 2], [1, 1], [2, 2]]\n"
     ]
    }
   ],
   "source": [
    "a=[[[1,1],[2,2]],[[1,1,1],[2,2,2]]]\n",
    "for i in a:\n",
    "    print(i*2)\n",
    "b=[[1, 1], [2, 2]]\n",
    "print(b*2)\n"
   ]
  },
  {
   "cell_type": "code",
   "execution_count": null,
   "metadata": {},
   "outputs": [],
   "source": []
  }
 ]
}
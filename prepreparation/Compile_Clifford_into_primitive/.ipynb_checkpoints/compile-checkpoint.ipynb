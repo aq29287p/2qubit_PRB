{
 "cells": [
  {
   "cell_type": "code",
   "execution_count": 2,
   "id": "573e478f",
   "metadata": {},
   "outputs": [
    {
     "name": "stdout",
     "output_type": "stream",
     "text": [
      "gateset 1,21\n"
     ]
    }
   ],
   "source": [
    "#transform rb sequence into prb sequence \n",
    "import pickle\n",
    "import itertools\n",
    "import tqdm\n",
    "gateset=int(input('gateset 1,2'))\n",
    "with open('4_3162_irb_seq.pkl', 'rb') as f:\n",
    "    rb_seq = pickle.load(f)\n",
    "with open('Cliff_index_gateset'+str(gateset)+'_reindex-Copy1.pkl', 'rb') as f:\n",
    "    decomp = pickle.load(f)\n",
    "c={}\n",
    "f={}\n",
    "for i in tqdm(rb_seq):\n",
    "    b=[]\n",
    "    for j in rb_seq[i]:\n",
    "        a=[]\n",
    "        for k in j:\n",
    "            a.append(decomp[k])\n",
    "        e=list(itertools.chain.from_iterable(a))\n",
    "        b.append(e)\n",
    "    c[i]=b\n",
    "with open('4_3162_irb_seq_gateset'+str(gateset)+'.pkl', 'wb') as f:\n",
    "    pickle.dump(c, f)"
   ]
  }
 ],
 "metadata": {
  "kernelspec": {
   "display_name": "Python 3",
   "language": "python",
   "name": "python3"
  },
  "language_info": {
   "codemirror_mode": {
    "name": "ipython",
    "version": 3
   },
   "file_extension": ".py",
   "mimetype": "text/x-python",
   "name": "python",
   "nbconvert_exporter": "python",
   "pygments_lexer": "ipython3",
   "version": "3.9.5"
  }
 },
 "nbformat": 4,
 "nbformat_minor": 5
}

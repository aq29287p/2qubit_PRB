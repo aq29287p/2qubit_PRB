{
 "cells": [
  {
   "cell_type": "code",
   "execution_count": 4,
   "id": "7bb6aaa2",
   "metadata": {},
   "outputs": [
    {
     "name": "stdout",
     "output_type": "stream",
     "text": [
      "interleaved_gate_index= 4\n"
     ]
    },
    {
     "data": {
      "application/vnd.jupyter.widget-view+json": {
       "model_id": "c23557264b5348cf8ca201638b68ce81",
       "version_major": 2,
       "version_minor": 0
      },
      "text/plain": [
       "  0%|          | 0/33 [00:00<?, ?it/s]"
      ]
     },
     "metadata": {},
     "output_type": "display_data"
    }
   ],
   "source": [
    "###### add interleaved gate into rb sequence and add inverse\n",
    "from functools import reduce\n",
    "import itertools\n",
    "import numpy as np\n",
    "import pickle\n",
    "import os\n",
    "from print_large import _print_big_matrix\n",
    "from tqdm import trange\n",
    "from multiprocessing import Pool\n",
    "from tqdm.notebook import tqdm\n",
    "### 2-qubit Clifford matrix\n",
    "gateset_path=str(os.path.abspath(os.path.join(os.getcwd(), \"../..\")))+'/gateset/'\n",
    "with open(gateset_path+'Cliff_kruas.pkl', 'rb') as f:\n",
    "    Cliff_kruas = pickle.load(f)\n",
    "with open(gateset_path+'3162_rb_seq.pkl', 'rb') as f:\n",
    "    rb_seq = pickle.load(f)\n",
    "def find_index(_j):\n",
    "    if np.isclose(abs(np.trace(interleaved_gate@Cliff_kruas[_j].conj().T))/4,1):\n",
    "        return _j\n",
    "def add_irb_inverse(_rb_seq):\n",
    "    _irb_seq=list(itertools.chain(*zip(_rb_seq, [interleaved_gate_index]*len(_rb_seq))))\n",
    "    total_operation=reduce(lambda x,y: y@x, [Cliff_kruas[_i] for _i in _irb_seq])\n",
    "### find irb inverse element\n",
    "    for i_irb in range(11520):\n",
    "        if (np.isclose(abs(np.trace(Cliff_kruas[i_irb]@total_operation)),4)):\n",
    "            _irb_seq.append(i_irb)\n",
    "            return _irb_seq\n",
    "        elif i_irb == 11519:\n",
    "            return False\n",
    "if __name__ == '__main__':\n",
    "    irb_seq={}\n",
    "###interleaved_ part#######################################################################################################################\n",
    "#### interleaved_gate\n",
    "    X_2 = 0.5* np.asarray([[1+1j,   1-1j], [1-1j,  1+1j]])\n",
    "    interleaved_gate= np.array([[1, 0, 0, 0], [0, 1, 0, 0], [0, 0, 0, 1], [0, 0, 1, 0]])\n",
    "#### find interleaved_gate index    \n",
    "    pool = Pool()\n",
    "    interleaved_gate_index=[i for i in filter(lambda x: x!=None, pool.map_async(find_index,[_j for _j in range(11520)]).get())][0]\n",
    "    pool.close()\n",
    "    pool.join()\n",
    "    print('interleaved_gate_index=',interleaved_gate_index)\n",
    "#######################################################################################################\n",
    "    for i in tqdm(rb_seq):\n",
    "        pool=Pool()\n",
    "        irb_seq[i]=pool.map(add_irb_inverse,[rb_seq[i][_j][:-1] for _j in range(len(rb_seq[i]))])\n",
    "        assert False not in irb_seq[i], 'false in irbseq'\n",
    "        pool.close()\n",
    "        pool.join()\n",
    "    with open(str(interleaved_gate_index)+'_3162_irb_seq.pkl', 'wb') as f:\n",
    "        pickle.dump(irb_seq, f)"
   ]
  },
  {
   "cell_type": "code",
   "execution_count": 2,
   "id": "160352d1",
   "metadata": {},
   "outputs": [
    {
     "name": "stdout",
     "output_type": "stream",
     "text": [
      "max sequence number1\n",
      "different types sequence 1000\n"
     ]
    },
    {
     "data": {
      "application/vnd.jupyter.widget-view+json": {
       "model_id": "0116654b2e804653946519c92537fc7e",
       "version_major": 2,
       "version_minor": 0
      },
      "text/plain": [
       "  0%|          | 0/33 [00:00<?, ?it/s]"
      ]
     },
     "metadata": {},
     "output_type": "display_data"
    }
   ],
   "source": [
    "#rb seq w/ inverse\n",
    "from functools import reduce\n",
    "import numpy as np\n",
    "import pickle\n",
    "import os\n",
    "from print_large import _print_big_matrix\n",
    "from tqdm.notebook import tqdm\n",
    "from multiprocessing import  Pool\n",
    "a=[1,2,3,4,5,6, 8, 10, 13, 16, 20, 25, 32, 40, 50, 63, 79, 100, 126, 158, 200, 251, 316, 398, 501, 631, 794, 1000, 1259, 1585, 1995, 2512, 3162]\n",
    "\n",
    "### 2-qubit Clifford matrix\n",
    "gateset_path=str(os.path.abspath(os.path.join(os.getcwd(), \"../..\")))+'/gateset/'\n",
    "with open(gateset_path+'Cliff_kruas.pkl', 'rb') as f:\n",
    "    Cliff_kruas = pickle.load(f)\n",
    "###generate rb sequence\n",
    "def rb_seq_fun(seq_number):\n",
    "    np.random.seed()\n",
    "### random choose 11520 Clifford matrix\n",
    "    rb_seq_index= np.random.randint(low=0, high=11520, size=seq_number).tolist()\n",
    "### rb sequence matrix\n",
    "    rb_seq_kraus=reduce(lambda x, y : y@x, [Cliff_kruas[_i] for _i in rb_seq_index])\n",
    "### find rb inverse element\n",
    "    for i_rb in range(11520):\n",
    "        if (np.isclose(abs(np.trace(Cliff_kruas[i_rb]@rb_seq_kraus)),4)):\n",
    "            rb_seq_index.append(i_rb)\n",
    "            return rb_seq_index\n",
    "        elif i_rb == 11519:\n",
    "            return False\n",
    "if __name__ == '__main__':\n",
    "    rb_seq={}\n",
    "    max_seq_number=int(input('max sequence number'))\n",
    "    types=int(input('different types sequence '))\n",
    "    for i in tqdm(a):\n",
    "        pool=Pool()\n",
    "        rb_seq[i]=pool.map(rb_seq_fun,[i]*types)\n",
    "        assert False not in rb_seq[i], 'false in rbseq'\n",
    "        pool.close()\n",
    "        pool.join()\n",
    "    with open('3162_rb_seq.pkl', 'wb') as f:\n",
    "        pickle.dump(rb_seq, f)\n",
    "        "
   ]
  }
 ],
 "metadata": {
  "kernelspec": {
   "display_name": "Python 3",
   "language": "python",
   "name": "python3"
  },
  "language_info": {
   "codemirror_mode": {
    "name": "ipython",
    "version": 3
   },
   "file_extension": ".py",
   "mimetype": "text/x-python",
   "name": "python",
   "nbconvert_exporter": "python",
   "pygments_lexer": "ipython3",
   "version": "3.9.5"
  }
 },
 "nbformat": 4,
 "nbformat_minor": 5
}

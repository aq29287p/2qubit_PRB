{
 "cells": [
  {
   "cell_type": "code",
   "execution_count": 19,
   "id": "7bb6aaa2",
   "metadata": {},
   "outputs": [
    {
     "name": "stderr",
     "output_type": "stream",
     "text": [
      "\r",
      "  0%|          | 0/99 [00:00<?, ?it/s]"
     ]
    },
    {
     "name": "stdout",
     "output_type": "stream",
     "text": [
      "interleaved_gate_index= 227\n"
     ]
    },
    {
     "name": "stderr",
     "output_type": "stream",
     "text": [
      "100%|██████████| 99/99 [15:59<00:00,  9.69s/it]\n"
     ]
    }
   ],
   "source": [
    "###### add interleaved gate into rb sequence and add inverse\n",
    "from functools import reduce\n",
    "import itertools\n",
    "import numpy as np\n",
    "import pickle\n",
    "from print_large import _print_big_matrix\n",
    "from tqdm import trange\n",
    "from multiprocessing import Pool\n",
    "from tqdm import tqdm\n",
    "### 2-qubit Clifford matrix\n",
    "with open('Cliff_kruas.pkl', 'rb') as f:\n",
    "    Cliff_kruas = pickle.load(f)\n",
    "with open('rb_seq.pkl', 'rb') as f:\n",
    "    rb_seq = pickle.load(f)\n",
    "def find_index(_j):\n",
    "    if np.isclose(abs(np.trace(interleaved_gate@Cliff_kruas[_j].conj().T))/4,1):\n",
    "        return _j\n",
    "def add_irb_inverse(_rb_seq):\n",
    "    _irb_seq=list(itertools.chain(*zip(_rb_seq, [interleaved_gate_index]*len(_rb_seq))))\n",
    "    total_operation=reduce(lambda x,y: y@x, [Cliff_kruas[_i] for _i in _irb_seq])\n",
    "### find irb inverse element\n",
    "    for i_irb in range(11520):\n",
    "        if (np.isclose(abs(np.trace(Cliff_kruas[i_irb]@total_operation)),4)):\n",
    "            _irb_seq.append(i_irb)\n",
    "            return _irb_seq\n",
    "        elif i_irb == 11519:\n",
    "            return False\n",
    "if __name__ == '__main__':\n",
    "    irb_seq={}\n",
    "###interleaved_ part#######################################################################################################################\n",
    "#### interleaved_gate\n",
    "    X =  np.asarray([[0,   1], [1,  0]])\n",
    "    interleaved_gate= np.kron(X, np.eye(2))\n",
    "#### find interleaved_gate index    \n",
    "    pool = Pool()\n",
    "    interleaved_gate_index=[i for i in filter(lambda x: x!=None, pool.map_async(find_index,[_j for _j in range(11520)]).get())][0]\n",
    "    pool.close()\n",
    "    pool.join()\n",
    "    print('interleaved_gate_index=',interleaved_gate_index)\n",
    "#######################################################################################################\n",
    "    for i in tqdm(rb_seq):\n",
    "        pool=Pool()\n",
    "        irb_seq[i]=pool.map(add_irb_inverse,[rb_seq[i][_j][:-1] for _j in range(len(rb_seq[i]))])\n",
    "        assert False not in irb_seq[i], 'false in irbseq'\n",
    "        pool.close()\n",
    "        pool.join()\n",
    "    with open(str(interleaved_gate_index)+'irb_seq.pkl', 'wb') as f:\n",
    "        pickle.dump(irb_seq, f)"
   ]
  },
  {
   "cell_type": "code",
   "execution_count": null,
   "id": "3d6812ac",
   "metadata": {},
   "outputs": [],
   "source": [
    "###### i prb seq\n",
    "from functools import reduce\n",
    "import itertools\n",
    "import numpy as np\n",
    "import pickle\n",
    "from print_large import _print_big_matrix\n",
    "from tqdm import trange\n",
    "from multiprocessing import Pool\n",
    "from tqdm import tqdm\n",
    "### 2-qubit Clifford matrix\n",
    "with open('Cliff_kruas.pkl', 'rb') as f:\n",
    "    Cliff_kruas = pickle.load(f)\n",
    "with open('rb_seq.pkl', 'rb') as f:\n",
    "    rb_seq = pickle.load(f)\n",
    "def find_index(_j):\n",
    "    if np.isclose(abs(np.trace(interleaved_gate@Cliff_kruas[_j].conj().T))/4,1):\n",
    "        return _j\n",
    "def Cliff_2_primitive(_rb_seq):\n",
    "    a=[]\n",
    "    for _i in _rb_seq :\n",
    "        if _i =='i':\n",
    "            a.append('i')\n",
    "        else:\n",
    "            a.append(Cliff_index[_i])\n",
    "    return a\n",
    "def add_irb_inverse(_rb_seq):\n",
    "    _irb_seq=list(itertools.chain(*zip(_rb_seq, [interleaved_gate_index]*len(_rb_seq))))\n",
    "    _iprb_seq=list(itertools.chain(*zip(_rb_seq, ['i']*len(_rb_seq))))\n",
    "    total_operation=reduce(lambda x,y: y@x, [Cliff_kruas[_i] for _i in _irb_seq])\n",
    "### find irb inverse element\n",
    "    for i_irb in range(11520):\n",
    "        if (np.isclose(abs(np.trace(Cliff_kruas[i_irb]@total_operation)),4)):\n",
    "            _iprb_seq.append(i_irb)\n",
    "            \n",
    "            return Cliff_2_primitive(_iprb_seq)\n",
    "        elif i_irb == 11519:\n",
    "            return False\n",
    "if __name__ == '__main__':\n",
    "    irb_seq={}\n",
    "###interleaved_ part#######################################################################################################################\n",
    "#### interleaved_gate\n",
    "    X =  np.asarray([[0,   1], [1,  0]])\n",
    "    interleaved_gate= np.kron(X, np.eye(2))\n",
    "#### find interleaved_gate index    \n",
    "    pool = Pool()\n",
    "    interleaved_gate_index=[i for i in filter(lambda x: x!=None, pool.map_async(find_index,[_j for _j in range(11520)]).get())][0]\n",
    "    pool.close()\n",
    "    pool.join()\n",
    "    print('interleaved_gate_index=',interleaved_gate_index)\n",
    "#######################################################################################################\n",
    "    for i in tqdm(rb_seq):\n",
    "        pool=Pool()\n",
    "        iprb_seq[i]=pool.map(add_irb_inverse,[rb_seq[i][_j][:-1] for _j in range(len(rb_seq[i]))])\n",
    "        assert False not in iprb_seq[i], 'false in irbseq'\n",
    "        pool.close()\n",
    "        pool.join()\n",
    "    with open(str(interleaved_gate_index)+'iprb_seq.pkl', 'wb') as f:\n",
    "        pickle.dump(iprb_seq, f)"
   ]
  }
 ],
 "metadata": {
  "kernelspec": {
   "display_name": "Python 3",
   "language": "python",
   "name": "python3"
  },
  "language_info": {
   "codemirror_mode": {
    "name": "ipython",
    "version": 3
   },
   "file_extension": ".py",
   "mimetype": "text/x-python",
   "name": "python",
   "nbconvert_exporter": "python",
   "pygments_lexer": "ipython3",
   "version": "3.9.5"
  }
 },
 "nbformat": 4,
 "nbformat_minor": 5
}

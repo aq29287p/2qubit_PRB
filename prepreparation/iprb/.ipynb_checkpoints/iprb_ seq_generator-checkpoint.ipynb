{
 "cells": [
  {
   "cell_type": "code",
   "execution_count": 24,
   "id": "6ab0c361",
   "metadata": {},
   "outputs": [
    {
     "name": "stdout",
     "output_type": "stream",
     "text": [
      "gateset \n",
      "1\n"
     ]
    },
    {
     "name": "stderr",
     "output_type": "stream",
     "text": [
      "\r",
      "  0%|          | 0/99 [00:00<?, ?it/s]"
     ]
    },
    {
     "name": "stdout",
     "output_type": "stream",
     "text": [
      "interleaved_gate_index= 227\n"
     ]
    },
    {
     "name": "stderr",
     "output_type": "stream",
     "text": [
      "100%|██████████| 99/99 [1:04:42<00:00, 39.22s/it]\n"
     ]
    }
   ],
   "source": [
    "###### i prb seq from  rb seq\n",
    "from functools import reduce\n",
    "import itertools\n",
    "import numpy as np\n",
    "import pickle\n",
    "from print_large import _print_big_matrix\n",
    "from tqdm import trange\n",
    "from multiprocessing import Pool\n",
    "from tqdm import tqdm\n",
    "### 2-qubit Clifford matrix\n",
    "with open('Cliff_kruas.pkl', 'rb') as f:\n",
    "    Cliff_kruas = pickle.load(f)\n",
    "with open('rb_seq.pkl', 'rb') as f:\n",
    "    rb_seq = pickle.load(f)\n",
    "def gate_number(seq):\n",
    "    return len(seq)-seq.count('i')-1\n",
    "def find_index(_j):\n",
    "    if np.isclose(abs(np.trace(interleaved_gate@Cliff_kruas[_j].conj().T))/4,1):\n",
    "        return _j\n",
    "def Cliff_2_primitive(_rb_seq):\n",
    "    a=[]\n",
    "    for _i in _rb_seq :\n",
    "        if _i =='i':\n",
    "            a.append('i')\n",
    "        else:\n",
    "            a += Cliff_index[_i]\n",
    "    return a\n",
    "def add_irb_inverse(_rb_seq):\n",
    "    _irb_seq=list(itertools.chain(*zip(_rb_seq, [interleaved_gate_index]*len(_rb_seq))))\n",
    "    _iprb_seq=list(itertools.chain(*zip(_rb_seq, ['i']*len(_rb_seq))))\n",
    "    total_operation=reduce(lambda x,y: y@x, [Cliff_kruas[_i] for _i in _irb_seq])\n",
    "### find irb inverse element\n",
    "    for i_irb in range(11520):\n",
    "        if (np.isclose(abs(np.trace(Cliff_kruas[i_irb]@total_operation)),4)):\n",
    "            _iprb_seq.append(i_irb)\n",
    "            \n",
    "            return Cliff_2_primitive(_iprb_seq)\n",
    "        elif i_irb == 11519:\n",
    "            return False\n",
    "if __name__ == '__main__':\n",
    "    gateset=int(input('gateset \\n'))\n",
    "    with open('Cliff_index_gateset'+str(gateset)+'_reindex.pkl', 'rb') as f:\n",
    "        Cliff_index = pickle.load(f)\n",
    "    iprb_seq={}\n",
    "###interleaved_ part#######################################################################################################################\n",
    "#### interleaved_gate\n",
    "    X =  np.asarray([[0,   1], [1,  0]])\n",
    "    interleaved_gate= np.kron(X, np.eye(2))\n",
    "#### find interleaved_gate index    \n",
    "    pool = Pool()\n",
    "    interleaved_gate_index=[i for i in filter(lambda x: x!=None, pool.map_async(find_index,[_j for _j in range(11520)]).get())][0]\n",
    "    pool.close()\n",
    "    pool.join()\n",
    "    print('interleaved_gate_index=',interleaved_gate_index)\n",
    "#######################################################################################################\n",
    "    for i in tqdm(rb_seq):\n",
    "        pool=Pool()\n",
    "        iprb_seq[i]=pool.map(add_irb_inverse,[rb_seq[i][_j][:-1] for _j in range(len(rb_seq[i]))])\n",
    "        assert False not in iprb_seq[i], 'false in irbseq'\n",
    "        pool.close()\n",
    "        pool.join()\n",
    "####################### sorted by pluse number\n",
    "    b=sorted(reduce(lambda x,y: x+y, list(iprb_seq.values())),key= lambda x: len(x)-x.count('i')-1)\n",
    "    c={}\n",
    "    d=[b[0]]\n",
    "    for i in b[1:]:\n",
    "        if gate_number(i)==gate_number(b[b.index(i)-1]):\n",
    "            d.append(i)\n",
    "        else:\n",
    "            c[gate_number(b[b.index(i)-1])]=d\n",
    "            d=[]\n",
    "            d.append(i)\n",
    "    with open(str(interleaved_gate_index)+'iprb_seq_gateset'+str(gateset)+'.pkl', 'wb') as f:\n",
    "        pickle.dump(c, f)"
   ]
  },
  {
   "cell_type": "code",
   "execution_count": 7,
   "id": "b0b55d2b",
   "metadata": {},
   "outputs": [
    {
     "name": "stdout",
     "output_type": "stream",
     "text": [
      "gateset \n",
      "1\n",
      "interleaved gate number \n",
      "227\n",
      "repeat \n",
      "1000000\n"
     ]
    },
    {
     "data": {
      "application/vnd.jupyter.widget-view+json": {
       "model_id": "5f28b6abce9c43898fcd48ccbe570c8e",
       "version_major": 2,
       "version_minor": 0
      },
      "text/plain": [
       "  0%|          | 0/99 [00:00<?, ?it/s]"
      ]
     },
     "metadata": {},
     "output_type": "display_data"
    }
   ],
   "source": [
    "###### i prb seq  ### random select from p\n",
    "from functools import reduce\n",
    "from itertools import permutations, chain\n",
    "import numpy as np\n",
    "import pickle\n",
    "from print_large import _print_big_matrix\n",
    "from tqdm.notebook import trange\n",
    "from multiprocessing import Pool\n",
    "def irb_seq(_iprb_seq):\n",
    "    total_operation=reduce(lambda x,y: y@x, [P[_i] for _i in _iprb_seq])\n",
    "### find irb inverse element\n",
    "    for _i in range(len(P)):\n",
    "        if (np.isclose(abs(np.trace(P[_i]@total_operation)),4)):\n",
    "            _iprb_seq.append(_i)\n",
    "            return _iprb_seq\n",
    "        \n",
    "if __name__ == '__main__':\n",
    "    gateset=int(input('gateset \\n'))\n",
    "    interleaved_gate_index=int(input('interleaved gate number \\n'))\n",
    "    rep=int(input('repeat \\n'))\n",
    "\n",
    "    if gateset==1:\n",
    "        gate_distri=[1, 9601, 8129, 3103, 2296, 0, 0, 9285, 8118, 2974, 3058, 0, 0, 10523, 9788]\n",
    "        with open('P_kruas_gateset'+str(gateset)+'.pkl', 'rb') as f:\n",
    "            P = pickle.load(f)\n",
    "        with open('Cliff_index_gateset'+str(gateset)+'_reindex.pkl', 'rb') as f:\n",
    "            C_gateset = pickle.load(f)\n",
    "    elif gateset==2:\n",
    "        gate_distri=[16192, 11846, 15055, 13880, 10476, 10481]\n",
    "        with open('P_kruas_gateset'+str(gateset)+'.pkl', 'rb') as f:\n",
    "            P = pickle.load(f)\n",
    "        with open('Cliff_index_gateset'+str(gateset)+'_reindex.pkl', 'rb') as f:\n",
    "            C_gateset = pickle.load(f)\n",
    "\n",
    "\n",
    "\n",
    "    iprb_seq={}\n",
    "    for i in trange(1,500):\n",
    "\n",
    "###random choice#######################################################################################################\n",
    "######## all possible combination        \n",
    "        if i<6:\n",
    "            seq= [list(_i) for _i in list(permutations([_j for _j in range(len(P))], r=i))]\n",
    "######## random choices            \n",
    "        else:\n",
    "            np.random.seed()\n",
    "            seq=np.random.choice([_i for _i in range(len(P))],size=(rep,i),p=[_i / sum(gate_distri) for _i in gate_distri]).tolist()\n",
    "###flatten list\n",
    "        flattenlist = lambda nestedlist:[item for element in nestedlist for item in flattenlist(element)] if type(nestedlist) is list else [nestedlist]\n",
    "###interleaved gate in P\n",
    "        seq=[flattenlist(list(chain(*[lst[_i:_i+1] + [C_gateset[interleaved_gate_index]] if len(lst[_i:_i+1]) == 1 else lst[_i:_i+1] for _i in range(len(lst))]))) for lst in seq]\n",
    "\n",
    "###cal the inverse        \n",
    "        pool=Pool()\n",
    "#### filter None\n",
    "        iprb_seq[i]=list(filter(None, pool.map_async(irb_seq,seq).get()))\n",
    "        pool.close()\n",
    "        pool.join()\n",
    "##### end for loop #################################################################################################\n",
    "    with open(str(interleaved_gate_index)+'iprb_seq_gateset'+str(gateset)+'.pkl', 'wb') as f:\n",
    "        pickle.dump(iprb_seq, f)"
   ]
  }
 ],
 "metadata": {
  "kernelspec": {
   "display_name": "Python 3",
   "language": "python",
   "name": "python3"
  },
  "language_info": {
   "codemirror_mode": {
    "name": "ipython",
    "version": 3
   },
   "file_extension": ".py",
   "mimetype": "text/x-python",
   "name": "python",
   "nbconvert_exporter": "python",
   "pygments_lexer": "ipython3",
   "version": "3.9.5"
  }
 },
 "nbformat": 4,
 "nbformat_minor": 5
}

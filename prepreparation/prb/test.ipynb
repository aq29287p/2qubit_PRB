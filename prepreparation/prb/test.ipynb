{
 "cells": [
  {
   "cell_type": "code",
   "execution_count": 1,
   "metadata": {},
   "outputs": [
    {
     "data": {
      "text/plain": [
       "\"with open('rb_2_prb_gateset1.pkl', 'rb') as f:\\n    c = pickle.load(f) \""
      ]
     },
     "execution_count": 1,
     "metadata": {},
     "output_type": "execute_result"
    }
   ],
   "source": [
    "from functools import reduce\n",
    "import pickle\n",
    "import numpy as np\n",
    "with open('rb_seq_gateset1.pkl', 'rb') as f:\n",
    "    rb = pickle.load(f)\n",
    "b=sorted(reduce(lambda x,y: x+y, [i for i in list(rb.values())]),key=len)\n",
    "'''c={}\n",
    "d=b[0]\n",
    "for i in b[1:]:\n",
    "    if len(i)==len(b[b.index(i)-1]):\n",
    "        d.append(i)\n",
    "    else:\n",
    "        c[len(b[b.index(i)-1])]=d\n",
    "        d=[]\n",
    "        d.append(i)'''\n",
    "'''with open('rb_2_prb_gateset1.pkl', 'rb') as f:\n",
    "    c = pickle.load(f) '''  "
   ]
  },
  {
   "cell_type": "code",
   "execution_count": 54,
   "metadata": {
    "tags": []
   },
   "outputs": [
    {
     "data": {
      "image/png": "[encoded data removed]",
      "text/plain": [
       "<Figure size 432x288 with 1 Axes>"
      ]
     },
     "metadata": {
      "needs_background": "light"
     },
     "output_type": "display_data"
    }
   ],
   "source": [
    "import matplotlib.pyplot as plt\n",
    "\n",
    "#import seaborn as sns\n",
    "#sns.violinplot(data=[len(i) for i in b])\n",
    "#x=list(c.keys())\n",
    "#y=[len(c[i]) for i in x]\n",
    "plt.hist([len(i) for i in b[8000:9400]], density=False, cumulative = False)\n",
    "\n",
    "plt.show()"
   ]
  },
  {
   "cell_type": "code",
   "execution_count": null,
   "metadata": {},
   "outputs": [],
   "source": []
  }
 ],
 "metadata": {
  "kernelspec": {
   "display_name": "Python 3.7.7 64-bit ('base': conda)",
   "language": "python",
   "name": "python377jvsc74a57bd0805735b0cad371bf8d84877e4fcfacd6fad020d4fcf8a35b13b73228cee95f2c"
  },
  "language_info": {
   "codemirror_mode": {
    "name": "ipython",
    "version": 3
   },
   "file_extension": ".py",
   "mimetype": "text/x-python",
   "name": "python",
   "nbconvert_exporter": "python",
   "pygments_lexer": "ipython3",
   "version": "3.7.7"
  }
 },
 "nbformat": 4,
 "nbformat_minor": 2
}

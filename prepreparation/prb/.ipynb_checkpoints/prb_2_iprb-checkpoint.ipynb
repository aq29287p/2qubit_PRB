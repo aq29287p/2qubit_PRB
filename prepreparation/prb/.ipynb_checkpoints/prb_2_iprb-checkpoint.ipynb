{
 "cells": [
  {
   "cell_type": "code",
   "execution_count": null,
   "id": "ffe6b670",
   "metadata": {},
   "outputs": [],
   "source": [
    "import pickle\n",
    "with open('rb_2_prb_gateset'+str(gateset)+'.pkl', 'rb') as f:\n",
    "    rb = pickle.load(f)"
   ]
  }
 ],
 "metadata": {
  "kernelspec": {
   "display_name": "Python 3",
   "language": "python",
   "name": "python3"
  },
  "language_info": {
   "codemirror_mode": {
    "name": "ipython",
    "version": 3
   },
   "file_extension": ".py",
   "mimetype": "text/x-python",
   "name": "python",
   "nbconvert_exporter": "python",
   "pygments_lexer": "ipython3",
   "version": "3.9.5"
  }
 },
 "nbformat": 4,
 "nbformat_minor": 5
}
